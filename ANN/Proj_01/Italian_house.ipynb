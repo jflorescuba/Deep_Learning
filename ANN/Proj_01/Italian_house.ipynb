{
 "cells": [
  {
   "cell_type": "markdown",
   "metadata": {},
   "source": [
    "### Italian Houses Dataset in 2023\n",
    "- dataset : https://www.kaggle.com/datasets/alessandrolobello/italian-houses-dataset-2023\n",
    "\n",
    "- Features\n",
    "\n",
    "1. Price(€)\n",
    "2. Rooms\n",
    "3. mq : house square meters\n",
    "4. Type : house tipe, should be 1 ,2 or 3\n",
    "5. Desc : the house description in Italian\n",
    "6. City\n",
    "7. Street"
   ]
  },
  {
   "cell_type": "markdown",
   "metadata": {},
   "source": [
    "#### 1. Les données"
   ]
  },
  {
   "cell_type": "markdown",
   "metadata": {},
   "source": [
    "#### 1.1 Chargement des données"
   ]
  },
  {
   "cell_type": "code",
   "execution_count": 273,
   "metadata": {},
   "outputs": [],
   "source": [
    "import pandas as pd"
   ]
  },
  {
   "cell_type": "code",
   "execution_count": 274,
   "metadata": {},
   "outputs": [
    {
     "name": "stdout",
     "output_type": "stream",
     "text": [
      "(15998, 8)\n"
     ]
    },
    {
     "data": {
      "text/html": [
       "<div>\n",
       "<style scoped>\n",
       "    .dataframe tbody tr th:only-of-type {\n",
       "        vertical-align: middle;\n",
       "    }\n",
       "\n",
       "    .dataframe tbody tr th {\n",
       "        vertical-align: top;\n",
       "    }\n",
       "\n",
       "    .dataframe thead th {\n",
       "        text-align: right;\n",
       "    }\n",
       "</style>\n",
       "<table border=\"1\" class=\"dataframe\">\n",
       "  <thead>\n",
       "    <tr style=\"text-align: right;\">\n",
       "      <th></th>\n",
       "      <th>Price(€)</th>\n",
       "      <th>Rooms</th>\n",
       "      <th>mq</th>\n",
       "      <th>Type</th>\n",
       "      <th>Desc</th>\n",
       "      <th>City</th>\n",
       "      <th>Zone</th>\n",
       "      <th>Street</th>\n",
       "    </tr>\n",
       "  </thead>\n",
       "  <tbody>\n",
       "    <tr>\n",
       "      <th>0</th>\n",
       "      <td>142000.0</td>\n",
       "      <td>4</td>\n",
       "      <td>130</td>\n",
       "      <td>1</td>\n",
       "      <td>In via Ettore Vitale, strada principale del qu...</td>\n",
       "      <td>Catanzaro</td>\n",
       "      <td>Pontegrande - Sant'Elia</td>\n",
       "      <td>Via Ettore Vitale, 12</td>\n",
       "    </tr>\n",
       "    <tr>\n",
       "      <th>1</th>\n",
       "      <td>249000.0</td>\n",
       "      <td>4</td>\n",
       "      <td>108</td>\n",
       "      <td>1</td>\n",
       "      <td>Rif: PRQUAD - La Tempocasa di Cagliari San Ben...</td>\n",
       "      <td>Cagliari</td>\n",
       "      <td>San Benedetto</td>\n",
       "      <td>Via Giovan Battista Pergolesi</td>\n",
       "    </tr>\n",
       "    <tr>\n",
       "      <th>2</th>\n",
       "      <td>495000.0</td>\n",
       "      <td>5</td>\n",
       "      <td>117</td>\n",
       "      <td>2</td>\n",
       "      <td>Living Alberione: Luminoso attico collocato al...</td>\n",
       "      <td>Trento</td>\n",
       "      <td>San Pio X</td>\n",
       "      <td>via alberione</td>\n",
       "    </tr>\n",
       "    <tr>\n",
       "      <th>3</th>\n",
       "      <td>89000.0</td>\n",
       "      <td>3</td>\n",
       "      <td>93</td>\n",
       "      <td>1</td>\n",
       "      <td>Cornigliano/Coronata parte alta, Via Paradisio...</td>\n",
       "      <td>Genova</td>\n",
       "      <td>Cornigliano</td>\n",
       "      <td>Via Paradiso</td>\n",
       "    </tr>\n",
       "    <tr>\n",
       "      <th>4</th>\n",
       "      <td>495000.0</td>\n",
       "      <td>5</td>\n",
       "      <td>89</td>\n",
       "      <td>2</td>\n",
       "      <td>In Vendita Loft/Mansarda a Venezia Sestiere di...</td>\n",
       "      <td>Venezia</td>\n",
       "      <td>Arsenale - Giardini della Biennale</td>\n",
       "      <td>CASTELLO</td>\n",
       "    </tr>\n",
       "  </tbody>\n",
       "</table>\n",
       "</div>"
      ],
      "text/plain": [
       "   Price(€)  Rooms   mq  Type  \\\n",
       "0  142000.0      4  130     1   \n",
       "1  249000.0      4  108     1   \n",
       "2  495000.0      5  117     2   \n",
       "3   89000.0      3   93     1   \n",
       "4  495000.0      5   89     2   \n",
       "\n",
       "                                                Desc       City  \\\n",
       "0  In via Ettore Vitale, strada principale del qu...  Catanzaro   \n",
       "1  Rif: PRQUAD - La Tempocasa di Cagliari San Ben...   Cagliari   \n",
       "2  Living Alberione: Luminoso attico collocato al...     Trento   \n",
       "3  Cornigliano/Coronata parte alta, Via Paradisio...     Genova   \n",
       "4  In Vendita Loft/Mansarda a Venezia Sestiere di...    Venezia   \n",
       "\n",
       "                                 Zone                         Street  \n",
       "0             Pontegrande - Sant'Elia          Via Ettore Vitale, 12  \n",
       "1                       San Benedetto  Via Giovan Battista Pergolesi  \n",
       "2                           San Pio X                  via alberione  \n",
       "3                         Cornigliano                   Via Paradiso  \n",
       "4  Arsenale - Giardini della Biennale                       CASTELLO  "
      ]
     },
     "execution_count": 274,
     "metadata": {},
     "output_type": "execute_result"
    }
   ],
   "source": [
    "df = pd.read_csv('Italian_house_price.csv')\n",
    "print(df.shape)\n",
    "df.head()"
   ]
  },
  {
   "cell_type": "code",
   "execution_count": 275,
   "metadata": {},
   "outputs": [
    {
     "name": "stdout",
     "output_type": "stream",
     "text": [
      "<class 'pandas.core.frame.DataFrame'>\n",
      "RangeIndex: 15998 entries, 0 to 15997\n",
      "Data columns (total 8 columns):\n",
      " #   Column    Non-Null Count  Dtype  \n",
      "---  ------    --------------  -----  \n",
      " 0   Price(€)  15998 non-null  float64\n",
      " 1   Rooms     15998 non-null  int64  \n",
      " 2   mq        15998 non-null  int64  \n",
      " 3   Type      15998 non-null  int64  \n",
      " 4   Desc      15993 non-null  object \n",
      " 5   City      15998 non-null  object \n",
      " 6   Zone      15998 non-null  object \n",
      " 7   Street    15998 non-null  object \n",
      "dtypes: float64(1), int64(3), object(4)\n",
      "memory usage: 1000.0+ KB\n"
     ]
    }
   ],
   "source": [
    "df.info();"
   ]
  },
  {
   "cell_type": "code",
   "execution_count": 276,
   "metadata": {},
   "outputs": [
    {
     "data": {
      "text/html": [
       "<div>\n",
       "<style scoped>\n",
       "    .dataframe tbody tr th:only-of-type {\n",
       "        vertical-align: middle;\n",
       "    }\n",
       "\n",
       "    .dataframe tbody tr th {\n",
       "        vertical-align: top;\n",
       "    }\n",
       "\n",
       "    .dataframe thead th {\n",
       "        text-align: right;\n",
       "    }\n",
       "</style>\n",
       "<table border=\"1\" class=\"dataframe\">\n",
       "  <thead>\n",
       "    <tr style=\"text-align: right;\">\n",
       "      <th></th>\n",
       "      <th>Price(€)</th>\n",
       "      <th>Rooms</th>\n",
       "      <th>mq</th>\n",
       "      <th>Type</th>\n",
       "    </tr>\n",
       "  </thead>\n",
       "  <tbody>\n",
       "    <tr>\n",
       "      <th>0</th>\n",
       "      <td>142000.0</td>\n",
       "      <td>4</td>\n",
       "      <td>130</td>\n",
       "      <td>1</td>\n",
       "    </tr>\n",
       "    <tr>\n",
       "      <th>1</th>\n",
       "      <td>249000.0</td>\n",
       "      <td>4</td>\n",
       "      <td>108</td>\n",
       "      <td>1</td>\n",
       "    </tr>\n",
       "    <tr>\n",
       "      <th>2</th>\n",
       "      <td>495000.0</td>\n",
       "      <td>5</td>\n",
       "      <td>117</td>\n",
       "      <td>2</td>\n",
       "    </tr>\n",
       "    <tr>\n",
       "      <th>3</th>\n",
       "      <td>89000.0</td>\n",
       "      <td>3</td>\n",
       "      <td>93</td>\n",
       "      <td>1</td>\n",
       "    </tr>\n",
       "    <tr>\n",
       "      <th>4</th>\n",
       "      <td>495000.0</td>\n",
       "      <td>5</td>\n",
       "      <td>89</td>\n",
       "      <td>2</td>\n",
       "    </tr>\n",
       "  </tbody>\n",
       "</table>\n",
       "</div>"
      ],
      "text/plain": [
       "   Price(€)  Rooms   mq  Type\n",
       "0  142000.0      4  130     1\n",
       "1  249000.0      4  108     1\n",
       "2  495000.0      5  117     2\n",
       "3   89000.0      3   93     1\n",
       "4  495000.0      5   89     2"
      ]
     },
     "execution_count": 276,
     "metadata": {},
     "output_type": "execute_result"
    }
   ],
   "source": [
    "data = df.iloc[:,0:4]\n",
    "data.head()"
   ]
  },
  {
   "cell_type": "code",
   "execution_count": 277,
   "metadata": {},
   "outputs": [
    {
     "data": {
      "text/plain": [
       "Type\n",
       "1    8423\n",
       "2    5816\n",
       "3    1759\n",
       "Name: count, dtype: int64"
      ]
     },
     "execution_count": 277,
     "metadata": {},
     "output_type": "execute_result"
    }
   ],
   "source": [
    "data['Type'].value_counts()"
   ]
  },
  {
   "cell_type": "code",
   "execution_count": 278,
   "metadata": {},
   "outputs": [
    {
     "name": "stdout",
     "output_type": "stream",
     "text": [
      "done\n"
     ]
    }
   ],
   "source": [
    "new_columns = [1,2,3]\n",
    "\n",
    "existing_new_columns = set(data.columns)\n",
    "new_columns = [col for col in new_columns if col not in existing_new_columns]\n",
    "\n",
    "if new_columns:\n",
    "    one_hot_colonnes = pd.get_dummies(data['Type'],dtype=int)\n",
    "    data = pd.concat([data,one_hot_colonnes],axis=1)\n",
    "    data = data.drop(['Type'],axis=1)\n",
    "    print('done')\n",
    "else: \n",
    "    print('already done')"
   ]
  },
  {
   "cell_type": "code",
   "execution_count": 279,
   "metadata": {},
   "outputs": [
    {
     "data": {
      "text/html": [
       "<div>\n",
       "<style scoped>\n",
       "    .dataframe tbody tr th:only-of-type {\n",
       "        vertical-align: middle;\n",
       "    }\n",
       "\n",
       "    .dataframe tbody tr th {\n",
       "        vertical-align: top;\n",
       "    }\n",
       "\n",
       "    .dataframe thead th {\n",
       "        text-align: right;\n",
       "    }\n",
       "</style>\n",
       "<table border=\"1\" class=\"dataframe\">\n",
       "  <thead>\n",
       "    <tr style=\"text-align: right;\">\n",
       "      <th></th>\n",
       "      <th>Price(€)</th>\n",
       "      <th>Rooms</th>\n",
       "      <th>mq</th>\n",
       "      <th>1</th>\n",
       "      <th>2</th>\n",
       "      <th>3</th>\n",
       "    </tr>\n",
       "  </thead>\n",
       "  <tbody>\n",
       "    <tr>\n",
       "      <th>0</th>\n",
       "      <td>142000.0</td>\n",
       "      <td>4</td>\n",
       "      <td>130</td>\n",
       "      <td>1</td>\n",
       "      <td>0</td>\n",
       "      <td>0</td>\n",
       "    </tr>\n",
       "    <tr>\n",
       "      <th>1</th>\n",
       "      <td>249000.0</td>\n",
       "      <td>4</td>\n",
       "      <td>108</td>\n",
       "      <td>1</td>\n",
       "      <td>0</td>\n",
       "      <td>0</td>\n",
       "    </tr>\n",
       "    <tr>\n",
       "      <th>2</th>\n",
       "      <td>495000.0</td>\n",
       "      <td>5</td>\n",
       "      <td>117</td>\n",
       "      <td>0</td>\n",
       "      <td>1</td>\n",
       "      <td>0</td>\n",
       "    </tr>\n",
       "    <tr>\n",
       "      <th>3</th>\n",
       "      <td>89000.0</td>\n",
       "      <td>3</td>\n",
       "      <td>93</td>\n",
       "      <td>1</td>\n",
       "      <td>0</td>\n",
       "      <td>0</td>\n",
       "    </tr>\n",
       "    <tr>\n",
       "      <th>4</th>\n",
       "      <td>495000.0</td>\n",
       "      <td>5</td>\n",
       "      <td>89</td>\n",
       "      <td>0</td>\n",
       "      <td>1</td>\n",
       "      <td>0</td>\n",
       "    </tr>\n",
       "  </tbody>\n",
       "</table>\n",
       "</div>"
      ],
      "text/plain": [
       "   Price(€)  Rooms   mq  1  2  3\n",
       "0  142000.0      4  130  1  0  0\n",
       "1  249000.0      4  108  1  0  0\n",
       "2  495000.0      5  117  0  1  0\n",
       "3   89000.0      3   93  1  0  0\n",
       "4  495000.0      5   89  0  1  0"
      ]
     },
     "execution_count": 279,
     "metadata": {},
     "output_type": "execute_result"
    }
   ],
   "source": [
    "data.head()"
   ]
  },
  {
   "cell_type": "markdown",
   "metadata": {},
   "source": [
    "#### 1.2 Exploration des données"
   ]
  },
  {
   "cell_type": "code",
   "execution_count": 280,
   "metadata": {},
   "outputs": [],
   "source": [
    "import seaborn as sns\n",
    "import matplotlib.pyplot as plt"
   ]
  },
  {
   "cell_type": "code",
   "execution_count": 281,
   "metadata": {},
   "outputs": [],
   "source": [
    "# Ignorer les warning\n",
    "import warnings\n",
    "warnings.filterwarnings('ignore')"
   ]
  },
  {
   "cell_type": "code",
   "execution_count": 282,
   "metadata": {},
   "outputs": [
    {
     "data": {
      "image/png": "[encoded data removed]",
      "text/plain": [
       "<Figure size 1500x1500 with 42 Axes>"
      ]
     },
     "metadata": {},
     "output_type": "display_data"
    }
   ],
   "source": [
    "sns.pairplot(data);"
   ]
  },
  {
   "cell_type": "code",
   "execution_count": 283,
   "metadata": {},
   "outputs": [
    {
     "data": {
      "text/html": [
       "<div>\n",
       "<style scoped>\n",
       "    .dataframe tbody tr th:only-of-type {\n",
       "        vertical-align: middle;\n",
       "    }\n",
       "\n",
       "    .dataframe tbody tr th {\n",
       "        vertical-align: top;\n",
       "    }\n",
       "\n",
       "    .dataframe thead th {\n",
       "        text-align: right;\n",
       "    }\n",
       "</style>\n",
       "<table border=\"1\" class=\"dataframe\">\n",
       "  <thead>\n",
       "    <tr style=\"text-align: right;\">\n",
       "      <th></th>\n",
       "      <th>Price(€)</th>\n",
       "      <th>Rooms</th>\n",
       "      <th>mq</th>\n",
       "      <th>1</th>\n",
       "      <th>2</th>\n",
       "      <th>3</th>\n",
       "    </tr>\n",
       "  </thead>\n",
       "  <tbody>\n",
       "    <tr>\n",
       "      <th>count</th>\n",
       "      <td>15998.00</td>\n",
       "      <td>15998.00</td>\n",
       "      <td>15998.00</td>\n",
       "      <td>15998.00</td>\n",
       "      <td>15998.00</td>\n",
       "      <td>15998.00</td>\n",
       "    </tr>\n",
       "    <tr>\n",
       "      <th>mean</th>\n",
       "      <td>356421.62</td>\n",
       "      <td>3.63</td>\n",
       "      <td>121.18</td>\n",
       "      <td>0.53</td>\n",
       "      <td>0.36</td>\n",
       "      <td>0.11</td>\n",
       "    </tr>\n",
       "    <tr>\n",
       "      <th>std</th>\n",
       "      <td>442489.50</td>\n",
       "      <td>1.90</td>\n",
       "      <td>81.14</td>\n",
       "      <td>0.50</td>\n",
       "      <td>0.48</td>\n",
       "      <td>0.31</td>\n",
       "    </tr>\n",
       "    <tr>\n",
       "      <th>min</th>\n",
       "      <td>1.00</td>\n",
       "      <td>0.00</td>\n",
       "      <td>1.00</td>\n",
       "      <td>0.00</td>\n",
       "      <td>0.00</td>\n",
       "      <td>0.00</td>\n",
       "    </tr>\n",
       "    <tr>\n",
       "      <th>25%</th>\n",
       "      <td>135000.00</td>\n",
       "      <td>3.00</td>\n",
       "      <td>75.00</td>\n",
       "      <td>0.00</td>\n",
       "      <td>0.00</td>\n",
       "      <td>0.00</td>\n",
       "    </tr>\n",
       "    <tr>\n",
       "      <th>50%</th>\n",
       "      <td>240000.00</td>\n",
       "      <td>4.00</td>\n",
       "      <td>101.00</td>\n",
       "      <td>1.00</td>\n",
       "      <td>0.00</td>\n",
       "      <td>0.00</td>\n",
       "    </tr>\n",
       "    <tr>\n",
       "      <th>75%</th>\n",
       "      <td>410000.00</td>\n",
       "      <td>5.00</td>\n",
       "      <td>140.00</td>\n",
       "      <td>1.00</td>\n",
       "      <td>1.00</td>\n",
       "      <td>0.00</td>\n",
       "    </tr>\n",
       "    <tr>\n",
       "      <th>max</th>\n",
       "      <td>8200000.00</td>\n",
       "      <td>140.00</td>\n",
       "      <td>980.00</td>\n",
       "      <td>1.00</td>\n",
       "      <td>1.00</td>\n",
       "      <td>1.00</td>\n",
       "    </tr>\n",
       "  </tbody>\n",
       "</table>\n",
       "</div>"
      ],
      "text/plain": [
       "         Price(€)     Rooms        mq         1         2         3\n",
       "count    15998.00  15998.00  15998.00  15998.00  15998.00  15998.00\n",
       "mean    356421.62      3.63    121.18      0.53      0.36      0.11\n",
       "std     442489.50      1.90     81.14      0.50      0.48      0.31\n",
       "min          1.00      0.00      1.00      0.00      0.00      0.00\n",
       "25%     135000.00      3.00     75.00      0.00      0.00      0.00\n",
       "50%     240000.00      4.00    101.00      1.00      0.00      0.00\n",
       "75%     410000.00      5.00    140.00      1.00      1.00      0.00\n",
       "max    8200000.00    140.00    980.00      1.00      1.00      1.00"
      ]
     },
     "execution_count": 283,
     "metadata": {},
     "output_type": "execute_result"
    }
   ],
   "source": [
    "data.describe().round(2)"
   ]
  },
  {
   "cell_type": "code",
   "execution_count": 284,
   "metadata": {},
   "outputs": [
    {
     "data": {
      "text/plain": [
       "<Axes: ylabel='Rooms'>"
      ]
     },
     "execution_count": 284,
     "metadata": {},
     "output_type": "execute_result"
    },
    {
     "data": {
      "image/png": "[encoded data removed]",
      "text/plain": [
       "<Figure size 300x300 with 1 Axes>"
      ]
     },
     "metadata": {},
     "output_type": "display_data"
    }
   ],
   "source": [
    "# on regarde des données aberrantes dans le categorie Rooms\n",
    "plt.figure(figsize=(3,3))\n",
    "sns.boxplot(data.Rooms)"
   ]
  },
  {
   "cell_type": "code",
   "execution_count": 285,
   "metadata": {},
   "outputs": [
    {
     "data": {
      "text/plain": [
       "count    15998.00\n",
       "mean         3.63\n",
       "std          1.90\n",
       "min          0.00\n",
       "25%          3.00\n",
       "50%          4.00\n",
       "75%          5.00\n",
       "max        140.00\n",
       "Name: Rooms, dtype: float64"
      ]
     },
     "execution_count": 285,
     "metadata": {},
     "output_type": "execute_result"
    }
   ],
   "source": [
    "data['Rooms'].describe().round(2)"
   ]
  },
  {
   "cell_type": "code",
   "execution_count": 286,
   "metadata": {},
   "outputs": [
    {
     "data": {
      "text/plain": [
       "(15995, 6)"
      ]
     },
     "execution_count": 286,
     "metadata": {},
     "output_type": "execute_result"
    }
   ],
   "source": [
    "# filtrage des données aberrantes dans le catégorie Rooms\n",
    "data = data[data['Rooms']<=20]\n",
    "data.shape"
   ]
  },
  {
   "cell_type": "code",
   "execution_count": 287,
   "metadata": {},
   "outputs": [
    {
     "data": {
      "text/plain": [
       "<Axes: ylabel='Rooms'>"
      ]
     },
     "execution_count": 287,
     "metadata": {},
     "output_type": "execute_result"
    },
    {
     "data": {
      "image/png": "[encoded data removed]",
      "text/plain": [
       "<Figure size 300x300 with 1 Axes>"
      ]
     },
     "metadata": {},
     "output_type": "display_data"
    }
   ],
   "source": [
    "plt.figure(figsize=(3,3))\n",
    "sns.boxplot(data.Rooms)"
   ]
  },
  {
   "cell_type": "code",
   "execution_count": 288,
   "metadata": {},
   "outputs": [
    {
     "data": {
      "text/plain": [
       "<Axes: xlabel='Price(€)', ylabel='Rooms'>"
      ]
     },
     "execution_count": 288,
     "metadata": {},
     "output_type": "execute_result"
    },
    {
     "data": {
      "image/png": "[encoded data removed]",
      "text/plain": [
       "<Figure size 300x300 with 1 Axes>"
      ]
     },
     "metadata": {},
     "output_type": "display_data"
    }
   ],
   "source": [
    "plt.figure(figsize=(3,3))\n",
    "sns.scatterplot(x=data['Price(€)'],y=data['Rooms'])"
   ]
  },
  {
   "cell_type": "markdown",
   "metadata": {},
   "source": [
    "#### 1.3 Répartition Entrenaînement / Test (Train / Test)"
   ]
  },
  {
   "cell_type": "code",
   "execution_count": 289,
   "metadata": {},
   "outputs": [],
   "source": [
    "from sklearn.model_selection import train_test_split"
   ]
  },
  {
   "cell_type": "code",
   "execution_count": 290,
   "metadata": {},
   "outputs": [],
   "source": [
    "# Features (ou caractéristiques)\n",
    "X = data.drop('Price(€)',axis=1).values\n",
    "# Label (ou étiquette)\n",
    "y = data['Price(€)'].values\n",
    "\n",
    "# usamos extension values para extraer los valores en un arreglo numpy sin que altere nada en data\n",
    "\n",
    "# Split (séparation / répartition)\n",
    "X_train, X_test, y_train, y_test = train_test_split(X, y, test_size= 0.2, random_state=10)\n"
   ]
  },
  {
   "cell_type": "code",
   "execution_count": 291,
   "metadata": {},
   "outputs": [
    {
     "data": {
      "text/plain": [
       "(12796, 5)"
      ]
     },
     "execution_count": 291,
     "metadata": {},
     "output_type": "execute_result"
    }
   ],
   "source": [
    "X_train.shape"
   ]
  },
  {
   "cell_type": "code",
   "execution_count": 292,
   "metadata": {},
   "outputs": [
    {
     "data": {
      "text/plain": [
       "(3199, 5)"
      ]
     },
     "execution_count": 292,
     "metadata": {},
     "output_type": "execute_result"
    }
   ],
   "source": [
    "X_test.shape"
   ]
  },
  {
   "cell_type": "code",
   "execution_count": 293,
   "metadata": {},
   "outputs": [
    {
     "data": {
      "text/plain": [
       "(12796,)"
      ]
     },
     "execution_count": 293,
     "metadata": {},
     "output_type": "execute_result"
    }
   ],
   "source": [
    "y_train.shape"
   ]
  },
  {
   "cell_type": "code",
   "execution_count": 294,
   "metadata": {},
   "outputs": [
    {
     "data": {
      "text/plain": [
       "(3199,)"
      ]
     },
     "execution_count": 294,
     "metadata": {},
     "output_type": "execute_result"
    }
   ],
   "source": [
    "y_test.shape"
   ]
  },
  {
   "cell_type": "markdown",
   "metadata": {},
   "source": [
    "#### 1.4 Normalisation et mise à l'echelle des données"
   ]
  },
  {
   "cell_type": "code",
   "execution_count": 295,
   "metadata": {},
   "outputs": [],
   "source": [
    "from sklearn.preprocessing import MinMaxScaler, StandardScaler"
   ]
  },
  {
   "cell_type": "code",
   "execution_count": 296,
   "metadata": {},
   "outputs": [],
   "source": [
    "#scaler = MinMaxScaler()\n",
    "scaler = StandardScaler()"
   ]
  },
  {
   "cell_type": "code",
   "execution_count": 297,
   "metadata": {},
   "outputs": [],
   "source": [
    "#scaler.fit(X_train)"
   ]
  },
  {
   "cell_type": "code",
   "execution_count": 298,
   "metadata": {},
   "outputs": [],
   "source": [
    "#X_train = scaler.transform(X_train)\n",
    "X_train = scaler.fit_transform(X_train)\n",
    "X_test = scaler.transform(X_test)"
   ]
  },
  {
   "cell_type": "markdown",
   "metadata": {},
   "source": [
    "#### 2. Création du modèle"
   ]
  },
  {
   "cell_type": "code",
   "execution_count": 299,
   "metadata": {},
   "outputs": [],
   "source": [
    "import tensorflow as tf\n",
    "from keras.models import Sequential\n",
    "from keras.layers import Dense, Activation"
   ]
  },
  {
   "cell_type": "code",
   "execution_count": 300,
   "metadata": {},
   "outputs": [],
   "source": [
    "#model = Sequential()\n",
    "\n",
    "#model.add(Dense(4,activation= 'relu'))\n",
    "#model.add(Dense(4,activation= 'relu'))\n",
    "#model.add(Dense(4,activation= 'relu'))\n",
    "\n",
    "#model.add(Dense(1))\n",
    "\n",
    "#model.compile(optimizer='rmsprop', loss='mse')"
   ]
  },
  {
   "cell_type": "code",
   "execution_count": 301,
   "metadata": {},
   "outputs": [],
   "source": [
    "from keras.models import Sequential\n",
    "from keras.layers import Dense\n",
    "from keras import regularizers\n",
    "\n",
    "# Creación del modelo\n",
    "model = Sequential()\n",
    "\n",
    "# Capas ocultas con regularización L2\n",
    "model.add(Dense(64, activation='relu', kernel_regularizer=regularizers.l2(0.01), input_shape=(5,)))\n",
    "model.add(Dense(32, activation='relu', kernel_regularizer=regularizers.l2(0.01)))\n",
    "model.add(Dense(16, activation='relu', kernel_regularizer=regularizers.l2(0.01)))\n",
    "\n",
    "# Capa de salida\n",
    "model.add(Dense(1))  # Capa de salida para regresión\n",
    "\n",
    "# Compilación del modelo\n",
    "model.compile(optimizer='adam', loss='mse')  # Optimizador Adam y función de pérdida Mean Squared Error (MSE)"
   ]
  },
  {
   "cell_type": "markdown",
   "metadata": {},
   "source": [
    "#### 2.1 Entraînement"
   ]
  },
  {
   "cell_type": "code",
   "execution_count": 302,
   "metadata": {},
   "outputs": [
    {
     "name": "stdout",
     "output_type": "stream",
     "text": [
      "Epoch 1/250\n",
      "400/400 [==============================] - 1s 1ms/step - loss: 317580607488.0000\n",
      "Epoch 2/250\n",
      "283/400 [====================>.........] - ETA: 0s - loss: 284480372736.0000"
     ]
    },
    {
     "name": "stdout",
     "output_type": "stream",
     "text": [
      "400/400 [==============================] - 0s 1ms/step - loss: 273793712128.0000\n",
      "Epoch 3/250\n",
      "400/400 [==============================] - 1s 1ms/step - loss: 165341446144.0000\n",
      "Epoch 4/250\n",
      "400/400 [==============================] - 0s 650us/step - loss: 133728067584.0000\n",
      "Epoch 5/250\n",
      "400/400 [==============================] - 0s 705us/step - loss: 131622264832.0000\n",
      "Epoch 6/250\n",
      "400/400 [==============================] - 0s 738us/step - loss: 130823258112.0000\n",
      "Epoch 7/250\n",
      "400/400 [==============================] - 0s 963us/step - loss: 130318614528.0000\n",
      "Epoch 8/250\n",
      "400/400 [==============================] - 1s 1ms/step - loss: 129882324992.0000\n",
      "Epoch 9/250\n",
      "400/400 [==============================] - 0s 1ms/step - loss: 129543675904.0000\n",
      "Epoch 10/250\n",
      "400/400 [==============================] - 0s 859us/step - loss: 129197096960.0000\n",
      "Epoch 11/250\n",
      "400/400 [==============================] - 0s 805us/step - loss: 128969424896.0000\n",
      "Epoch 12/250\n",
      "400/400 [==============================] - 0s 1ms/step - loss: 128715227136.0000\n",
      "Epoch 13/250\n",
      "400/400 [==============================] - 0s 753us/step - loss: 128543113216.0000\n",
      "Epoch 14/250\n",
      "400/400 [==============================] - 0s 964us/step - loss: 128415342592.0000\n",
      "Epoch 15/250\n",
      "400/400 [==============================] - 1s 1ms/step - loss: 128285474816.0000\n",
      "Epoch 16/250\n",
      "400/400 [==============================] - 0s 1ms/step - loss: 128181149696.0000\n",
      "Epoch 17/250\n",
      "400/400 [==============================] - 0s 866us/step - loss: 128081453056.0000\n",
      "Epoch 18/250\n",
      "400/400 [==============================] - 0s 812us/step - loss: 127936692224.0000\n",
      "Epoch 19/250\n",
      "400/400 [==============================] - 0s 684us/step - loss: 127888244736.0000\n",
      "Epoch 20/250\n",
      "400/400 [==============================] - 0s 934us/step - loss: 127869124608.0000\n",
      "Epoch 21/250\n",
      "400/400 [==============================] - 0s 737us/step - loss: 127840657408.0000\n",
      "Epoch 22/250\n",
      "400/400 [==============================] - 0s 866us/step - loss: 127717343232.0000\n",
      "Epoch 23/250\n",
      "400/400 [==============================] - 0s 885us/step - loss: 127623102464.0000\n",
      "Epoch 24/250\n",
      "400/400 [==============================] - 0s 914us/step - loss: 127681609728.0000\n",
      "Epoch 25/250\n",
      "400/400 [==============================] - 0s 1ms/step - loss: 127610208256.0000\n",
      "Epoch 26/250\n",
      "400/400 [==============================] - 0s 1ms/step - loss: 127572992000.0000\n",
      "Epoch 27/250\n",
      "400/400 [==============================] - 0s 803us/step - loss: 127552749568.0000\n",
      "Epoch 28/250\n",
      "400/400 [==============================] - 0s 772us/step - loss: 127543164928.0000\n",
      "Epoch 29/250\n",
      "400/400 [==============================] - 1s 1ms/step - loss: 127543156736.0000\n",
      "Epoch 30/250\n",
      "400/400 [==============================] - 0s 893us/step - loss: 127491833856.0000\n",
      "Epoch 31/250\n",
      "400/400 [==============================] - 0s 867us/step - loss: 127454814208.0000\n",
      "Epoch 32/250\n",
      "400/400 [==============================] - 0s 855us/step - loss: 127406096384.0000\n",
      "Epoch 33/250\n",
      "400/400 [==============================] - 0s 797us/step - loss: 127467798528.0000\n",
      "Epoch 34/250\n",
      "400/400 [==============================] - 0s 848us/step - loss: 127420841984.0000\n",
      "Epoch 35/250\n",
      "400/400 [==============================] - 0s 945us/step - loss: 127460687872.0000\n",
      "Epoch 36/250\n",
      "400/400 [==============================] - 0s 703us/step - loss: 127369338880.0000\n",
      "Epoch 37/250\n",
      "400/400 [==============================] - 0s 796us/step - loss: 127409782784.0000\n",
      "Epoch 38/250\n",
      "400/400 [==============================] - 0s 892us/step - loss: 127388229632.0000\n",
      "Epoch 39/250\n",
      "400/400 [==============================] - 0s 780us/step - loss: 127391399936.0000\n",
      "Epoch 40/250\n",
      "400/400 [==============================] - 0s 956us/step - loss: 127370862592.0000\n",
      "Epoch 41/250\n",
      "400/400 [==============================] - 0s 732us/step - loss: 127378415616.0000\n",
      "Epoch 42/250\n",
      "400/400 [==============================] - 0s 922us/step - loss: 127376596992.0000\n",
      "Epoch 43/250\n",
      "400/400 [==============================] - 0s 880us/step - loss: 127361163264.0000\n",
      "Epoch 44/250\n",
      "400/400 [==============================] - 0s 1ms/step - loss: 127335514112.0000\n",
      "Epoch 45/250\n",
      "400/400 [==============================] - 0s 956us/step - loss: 127368822784.0000\n",
      "Epoch 46/250\n",
      "400/400 [==============================] - 0s 757us/step - loss: 127374008320.0000\n",
      "Epoch 47/250\n",
      "400/400 [==============================] - 0s 878us/step - loss: 127314558976.0000\n",
      "Epoch 48/250\n",
      "400/400 [==============================] - 0s 888us/step - loss: 127368708096.0000\n",
      "Epoch 49/250\n",
      "400/400 [==============================] - 0s 823us/step - loss: 127323136000.0000\n",
      "Epoch 50/250\n",
      "400/400 [==============================] - 0s 673us/step - loss: 127355158528.0000\n",
      "Epoch 51/250\n",
      "400/400 [==============================] - 0s 840us/step - loss: 127350202368.0000\n",
      "Epoch 52/250\n",
      "400/400 [==============================] - 0s 797us/step - loss: 127332270080.0000\n",
      "Epoch 53/250\n",
      "400/400 [==============================] - 0s 859us/step - loss: 127320670208.0000\n",
      "Epoch 54/250\n",
      "400/400 [==============================] - 0s 878us/step - loss: 127304843264.0000\n",
      "Epoch 55/250\n",
      "400/400 [==============================] - 0s 932us/step - loss: 127353577472.0000\n",
      "Epoch 56/250\n",
      "400/400 [==============================] - 0s 789us/step - loss: 127277842432.0000\n",
      "Epoch 57/250\n",
      "400/400 [==============================] - 0s 906us/step - loss: 127335038976.0000\n",
      "Epoch 58/250\n",
      "400/400 [==============================] - 1s 1ms/step - loss: 127296102400.0000\n",
      "Epoch 59/250\n",
      "400/400 [==============================] - 0s 941us/step - loss: 127344943104.0000\n",
      "Epoch 60/250\n",
      "400/400 [==============================] - 0s 851us/step - loss: 127299829760.0000\n",
      "Epoch 61/250\n",
      "400/400 [==============================] - 0s 760us/step - loss: 127275204608.0000\n",
      "Epoch 62/250\n",
      "400/400 [==============================] - 0s 864us/step - loss: 127327215616.0000\n",
      "Epoch 63/250\n",
      "400/400 [==============================] - 0s 737us/step - loss: 127269822464.0000\n",
      "Epoch 64/250\n",
      "400/400 [==============================] - 0s 861us/step - loss: 127278284800.0000\n",
      "Epoch 65/250\n",
      "400/400 [==============================] - 0s 821us/step - loss: 127331336192.0000\n",
      "Epoch 66/250\n",
      "400/400 [==============================] - 0s 830us/step - loss: 127347974144.0000\n",
      "Epoch 67/250\n",
      "400/400 [==============================] - 0s 763us/step - loss: 127251357696.0000\n",
      "Epoch 68/250\n",
      "400/400 [==============================] - 0s 780us/step - loss: 127273074688.0000\n",
      "Epoch 69/250\n",
      "400/400 [==============================] - 0s 865us/step - loss: 127271895040.0000\n",
      "Epoch 70/250\n",
      "400/400 [==============================] - 0s 808us/step - loss: 127227994112.0000\n",
      "Epoch 71/250\n",
      "400/400 [==============================] - 0s 724us/step - loss: 127285772288.0000\n",
      "Epoch 72/250\n",
      "400/400 [==============================] - 0s 986us/step - loss: 127282356224.0000\n",
      "Epoch 73/250\n",
      "400/400 [==============================] - 0s 722us/step - loss: 127276793856.0000\n",
      "Epoch 74/250\n",
      "400/400 [==============================] - 0s 757us/step - loss: 127263047680.0000\n",
      "Epoch 75/250\n",
      "400/400 [==============================] - 0s 873us/step - loss: 127285026816.0000\n",
      "Epoch 76/250\n",
      "400/400 [==============================] - 0s 792us/step - loss: 127209152512.0000\n",
      "Epoch 77/250\n",
      "400/400 [==============================] - 0s 932us/step - loss: 127209963520.0000\n",
      "Epoch 78/250\n",
      "400/400 [==============================] - 0s 763us/step - loss: 127252774912.0000\n",
      "Epoch 79/250\n",
      "400/400 [==============================] - 0s 755us/step - loss: 127282438144.0000\n",
      "Epoch 80/250\n",
      "400/400 [==============================] - 0s 734us/step - loss: 127229468672.0000\n",
      "Epoch 81/250\n",
      "400/400 [==============================] - 0s 772us/step - loss: 127229476864.0000\n",
      "Epoch 82/250\n",
      "400/400 [==============================] - 0s 690us/step - loss: 127227101184.0000\n",
      "Epoch 83/250\n",
      "400/400 [==============================] - 0s 717us/step - loss: 127212625920.0000\n",
      "Epoch 84/250\n",
      "400/400 [==============================] - 0s 697us/step - loss: 127174025216.0000\n",
      "Epoch 85/250\n",
      "400/400 [==============================] - 0s 743us/step - loss: 127253184512.0000\n",
      "Epoch 86/250\n",
      "400/400 [==============================] - 0s 711us/step - loss: 127212478464.0000\n",
      "Epoch 87/250\n",
      "400/400 [==============================] - 0s 933us/step - loss: 127231369216.0000\n",
      "Epoch 88/250\n",
      "400/400 [==============================] - 0s 722us/step - loss: 127214018560.0000\n",
      "Epoch 89/250\n",
      "400/400 [==============================] - 0s 1ms/step - loss: 127200329728.0000\n",
      "Epoch 90/250\n",
      "400/400 [==============================] - 0s 1ms/step - loss: 127191187456.0000\n",
      "Epoch 91/250\n",
      "400/400 [==============================] - 0s 1ms/step - loss: 127181357056.0000\n",
      "Epoch 92/250\n",
      "400/400 [==============================] - 0s 1ms/step - loss: 127151800320.0000\n",
      "Epoch 93/250\n",
      "400/400 [==============================] - 0s 1ms/step - loss: 127133335552.0000\n",
      "Epoch 94/250\n",
      "400/400 [==============================] - 0s 1ms/step - loss: 127227453440.0000\n",
      "Epoch 95/250\n",
      "400/400 [==============================] - 1s 1ms/step - loss: 127157796864.0000\n",
      "Epoch 96/250\n",
      "400/400 [==============================] - 1s 1ms/step - loss: 127175254016.0000\n",
      "Epoch 97/250\n",
      "400/400 [==============================] - 0s 1ms/step - loss: 127178399744.0000\n",
      "Epoch 98/250\n",
      "400/400 [==============================] - 0s 976us/step - loss: 127159287808.0000\n",
      "Epoch 99/250\n",
      "400/400 [==============================] - 0s 1ms/step - loss: 127159132160.0000\n",
      "Epoch 100/250\n",
      "400/400 [==============================] - 1s 1ms/step - loss: 127181242368.0000\n",
      "Epoch 101/250\n",
      "400/400 [==============================] - 0s 948us/step - loss: 127174279168.0000\n",
      "Epoch 102/250\n",
      "400/400 [==============================] - 0s 871us/step - loss: 127211773952.0000\n",
      "Epoch 103/250\n",
      "400/400 [==============================] - 0s 1ms/step - loss: 127130329088.0000\n",
      "Epoch 104/250\n",
      "400/400 [==============================] - 0s 1ms/step - loss: 127219933184.0000\n",
      "Epoch 105/250\n",
      "400/400 [==============================] - 1s 1ms/step - loss: 127185887232.0000\n",
      "Epoch 106/250\n",
      "400/400 [==============================] - 1s 2ms/step - loss: 127146672128.0000\n",
      "Epoch 107/250\n",
      "400/400 [==============================] - 0s 1ms/step - loss: 127169675264.0000\n",
      "Epoch 108/250\n",
      "400/400 [==============================] - 0s 1ms/step - loss: 127170027520.0000\n",
      "Epoch 109/250\n",
      "400/400 [==============================] - 0s 932us/step - loss: 127168749568.0000\n",
      "Epoch 110/250\n",
      "400/400 [==============================] - 0s 1ms/step - loss: 127153217536.0000\n",
      "Epoch 111/250\n",
      "400/400 [==============================] - 0s 1ms/step - loss: 127134572544.0000\n",
      "Epoch 112/250\n",
      "400/400 [==============================] - 1s 2ms/step - loss: 127144968192.0000\n",
      "Epoch 113/250\n",
      "400/400 [==============================] - 1s 2ms/step - loss: 127136391168.0000\n",
      "Epoch 114/250\n",
      "400/400 [==============================] - 1s 1ms/step - loss: 127172386816.0000\n",
      "Epoch 115/250\n",
      "400/400 [==============================] - 0s 1ms/step - loss: 127114747904.0000\n",
      "Epoch 116/250\n",
      "400/400 [==============================] - 1s 2ms/step - loss: 127120695296.0000\n",
      "Epoch 117/250\n",
      "400/400 [==============================] - 0s 966us/step - loss: 127072518144.0000\n",
      "Epoch 118/250\n",
      "400/400 [==============================] - 0s 947us/step - loss: 127133556736.0000\n",
      "Epoch 119/250\n",
      "400/400 [==============================] - 0s 823us/step - loss: 127144927232.0000\n",
      "Epoch 120/250\n",
      "400/400 [==============================] - 0s 861us/step - loss: 127115902976.0000\n",
      "Epoch 121/250\n",
      "400/400 [==============================] - 0s 894us/step - loss: 127131107328.0000\n",
      "Epoch 122/250\n",
      "400/400 [==============================] - 0s 1ms/step - loss: 127101075456.0000\n",
      "Epoch 123/250\n",
      "400/400 [==============================] - 0s 931us/step - loss: 127134834688.0000\n",
      "Epoch 124/250\n",
      "400/400 [==============================] - 0s 936us/step - loss: 127103033344.0000\n",
      "Epoch 125/250\n",
      "400/400 [==============================] - 0s 825us/step - loss: 127147966464.0000\n",
      "Epoch 126/250\n",
      "400/400 [==============================] - 0s 909us/step - loss: 127149801472.0000\n",
      "Epoch 127/250\n",
      "400/400 [==============================] - 0s 908us/step - loss: 127096438784.0000\n",
      "Epoch 128/250\n",
      "400/400 [==============================] - 1s 1ms/step - loss: 127099699200.0000\n",
      "Epoch 129/250\n",
      "400/400 [==============================] - 0s 928us/step - loss: 127121915904.0000\n",
      "Epoch 130/250\n",
      "400/400 [==============================] - 0s 908us/step - loss: 127159820288.0000\n",
      "Epoch 131/250\n",
      "400/400 [==============================] - 0s 954us/step - loss: 127107145728.0000\n",
      "Epoch 132/250\n",
      "400/400 [==============================] - 0s 867us/step - loss: 127085600768.0000\n",
      "Epoch 133/250\n",
      "400/400 [==============================] - 0s 828us/step - loss: 126979670016.0000\n",
      "Epoch 134/250\n",
      "400/400 [==============================] - 0s 901us/step - loss: 127118622720.0000\n",
      "Epoch 135/250\n",
      "400/400 [==============================] - 0s 976us/step - loss: 127129526272.0000\n",
      "Epoch 136/250\n",
      "400/400 [==============================] - 0s 838us/step - loss: 127106203648.0000\n",
      "Epoch 137/250\n",
      "400/400 [==============================] - 0s 864us/step - loss: 127071428608.0000\n",
      "Epoch 138/250\n",
      "400/400 [==============================] - 0s 910us/step - loss: 127105646592.0000\n",
      "Epoch 139/250\n",
      "400/400 [==============================] - 0s 902us/step - loss: 127067987968.0000\n",
      "Epoch 140/250\n",
      "400/400 [==============================] - 0s 1ms/step - loss: 127075450880.0000\n",
      "Epoch 141/250\n",
      "400/400 [==============================] - 0s 825us/step - loss: 127060598784.0000\n",
      "Epoch 142/250\n",
      "400/400 [==============================] - 0s 793us/step - loss: 127052816384.0000\n",
      "Epoch 143/250\n",
      "400/400 [==============================] - 0s 878us/step - loss: 127105720320.0000\n",
      "Epoch 144/250\n",
      "400/400 [==============================] - 0s 894us/step - loss: 127077474304.0000\n",
      "Epoch 145/250\n",
      "400/400 [==============================] - 0s 862us/step - loss: 127093186560.0000\n",
      "Epoch 146/250\n",
      "400/400 [==============================] - 0s 836us/step - loss: 127123423232.0000\n",
      "Epoch 147/250\n",
      "400/400 [==============================] - 0s 793us/step - loss: 127071838208.0000\n",
      "Epoch 148/250\n",
      "400/400 [==============================] - 0s 878us/step - loss: 127102017536.0000\n",
      "Epoch 149/250\n",
      "400/400 [==============================] - 0s 844us/step - loss: 127067717632.0000\n",
      "Epoch 150/250\n",
      "400/400 [==============================] - 0s 844us/step - loss: 127069519872.0000\n",
      "Epoch 151/250\n",
      "400/400 [==============================] - 0s 854us/step - loss: 127093383168.0000\n",
      "Epoch 152/250\n",
      "400/400 [==============================] - 0s 1ms/step - loss: 127060361216.0000\n",
      "Epoch 153/250\n",
      "400/400 [==============================] - 0s 1ms/step - loss: 127068651520.0000\n",
      "Epoch 154/250\n",
      "400/400 [==============================] - 0s 871us/step - loss: 127086903296.0000\n",
      "Epoch 155/250\n",
      "400/400 [==============================] - 0s 831us/step - loss: 127047376896.0000\n",
      "Epoch 156/250\n",
      "400/400 [==============================] - 0s 937us/step - loss: 127054594048.0000\n",
      "Epoch 157/250\n",
      "400/400 [==============================] - 0s 1ms/step - loss: 127018352640.0000\n",
      "Epoch 158/250\n",
      "400/400 [==============================] - 0s 811us/step - loss: 127029297152.0000\n",
      "Epoch 159/250\n",
      "400/400 [==============================] - 0s 1ms/step - loss: 126976679936.0000\n",
      "Epoch 160/250\n",
      "400/400 [==============================] - 0s 1ms/step - loss: 127132311552.0000\n",
      "Epoch 161/250\n",
      "400/400 [==============================] - 0s 942us/step - loss: 127066406912.0000\n",
      "Epoch 162/250\n",
      "400/400 [==============================] - 0s 863us/step - loss: 127054405632.0000\n",
      "Epoch 163/250\n",
      "400/400 [==============================] - 0s 1ms/step - loss: 127037202432.0000\n",
      "Epoch 164/250\n",
      "400/400 [==============================] - 0s 928us/step - loss: 127085740032.0000\n",
      "Epoch 165/250\n",
      "400/400 [==============================] - 0s 873us/step - loss: 127027806208.0000\n",
      "Epoch 166/250\n",
      "400/400 [==============================] - 0s 906us/step - loss: 127062138880.0000\n",
      "Epoch 167/250\n",
      "400/400 [==============================] - 0s 1ms/step - loss: 127000035328.0000\n",
      "Epoch 168/250\n",
      "400/400 [==============================] - 0s 994us/step - loss: 127070519296.0000\n",
      "Epoch 169/250\n",
      "400/400 [==============================] - 0s 881us/step - loss: 127056330752.0000\n",
      "Epoch 170/250\n",
      "400/400 [==============================] - 0s 999us/step - loss: 127006007296.0000\n",
      "Epoch 171/250\n",
      "400/400 [==============================] - 0s 1ms/step - loss: 127045869568.0000\n",
      "Epoch 172/250\n",
      "400/400 [==============================] - 0s 1ms/step - loss: 127038324736.0000\n",
      "Epoch 173/250\n",
      "400/400 [==============================] - 0s 957us/step - loss: 127072657408.0000\n",
      "Epoch 174/250\n",
      "400/400 [==============================] - 0s 1ms/step - loss: 127004655616.0000\n",
      "Epoch 175/250\n",
      "400/400 [==============================] - 0s 965us/step - loss: 127005384704.0000\n",
      "Epoch 176/250\n",
      "400/400 [==============================] - 0s 837us/step - loss: 127087017984.0000\n",
      "Epoch 177/250\n",
      "400/400 [==============================] - 0s 877us/step - loss: 126948139008.0000\n",
      "Epoch 178/250\n",
      "400/400 [==============================] - 0s 916us/step - loss: 127088803840.0000\n",
      "Epoch 179/250\n",
      "400/400 [==============================] - 0s 1ms/step - loss: 127027527680.0000\n",
      "Epoch 180/250\n",
      "400/400 [==============================] - 0s 889us/step - loss: 127016124416.0000\n",
      "Epoch 181/250\n",
      "400/400 [==============================] - 0s 905us/step - loss: 126955200512.0000\n",
      "Epoch 182/250\n",
      "400/400 [==============================] - 0s 1ms/step - loss: 127022530560.0000\n",
      "Epoch 183/250\n",
      "400/400 [==============================] - 0s 1ms/step - loss: 127042904064.0000\n",
      "Epoch 184/250\n",
      "400/400 [==============================] - 0s 1ms/step - loss: 126994276352.0000\n",
      "Epoch 185/250\n",
      "400/400 [==============================] - 0s 857us/step - loss: 127017705472.0000\n",
      "Epoch 186/250\n",
      "400/400 [==============================] - 0s 836us/step - loss: 127047114752.0000\n",
      "Epoch 187/250\n",
      "400/400 [==============================] - 0s 866us/step - loss: 126981562368.0000\n",
      "Epoch 188/250\n",
      "400/400 [==============================] - 0s 814us/step - loss: 127016312832.0000\n",
      "Epoch 189/250\n",
      "400/400 [==============================] - 0s 783us/step - loss: 127033827328.0000\n",
      "Epoch 190/250\n",
      "400/400 [==============================] - 0s 878us/step - loss: 127012077568.0000\n",
      "Epoch 191/250\n",
      "400/400 [==============================] - 0s 820us/step - loss: 127010529280.0000\n",
      "Epoch 192/250\n",
      "400/400 [==============================] - 0s 1ms/step - loss: 126998437888.0000\n",
      "Epoch 193/250\n",
      "400/400 [==============================] - 0s 935us/step - loss: 127002370048.0000\n",
      "Epoch 194/250\n",
      "400/400 [==============================] - 0s 1ms/step - loss: 126980710400.0000\n",
      "Epoch 195/250\n",
      "400/400 [==============================] - 0s 1ms/step - loss: 126990942208.0000\n",
      "Epoch 196/250\n",
      "400/400 [==============================] - 0s 997us/step - loss: 127008473088.0000\n",
      "Epoch 197/250\n",
      "400/400 [==============================] - 0s 890us/step - loss: 126979915776.0000\n",
      "Epoch 198/250\n",
      "400/400 [==============================] - 0s 910us/step - loss: 127017951232.0000\n",
      "Epoch 199/250\n",
      "400/400 [==============================] - 0s 917us/step - loss: 127012880384.0000\n",
      "Epoch 200/250\n",
      "400/400 [==============================] - 0s 890us/step - loss: 126995234816.0000\n",
      "Epoch 201/250\n",
      "400/400 [==============================] - 0s 974us/step - loss: 127012888576.0000\n",
      "Epoch 202/250\n",
      "400/400 [==============================] - 0s 910us/step - loss: 126968692736.0000\n",
      "Epoch 203/250\n",
      "400/400 [==============================] - 0s 939us/step - loss: 126986493952.0000\n",
      "Epoch 204/250\n",
      "400/400 [==============================] - 0s 891us/step - loss: 126961442816.0000\n",
      "Epoch 205/250\n",
      "400/400 [==============================] - 0s 1ms/step - loss: 126951219200.0000\n",
      "Epoch 206/250\n",
      "400/400 [==============================] - 0s 897us/step - loss: 126962819072.0000\n",
      "Epoch 207/250\n",
      "400/400 [==============================] - 0s 926us/step - loss: 126951415808.0000\n",
      "Epoch 208/250\n",
      "400/400 [==============================] - 0s 907us/step - loss: 126976245760.0000\n",
      "Epoch 209/250\n",
      "400/400 [==============================] - 0s 1ms/step - loss: 126969085952.0000\n",
      "Epoch 210/250\n",
      "400/400 [==============================] - 0s 918us/step - loss: 126935638016.0000\n",
      "Epoch 211/250\n",
      "400/400 [==============================] - 0s 951us/step - loss: 126984077312.0000\n",
      "Epoch 212/250\n",
      "400/400 [==============================] - 0s 1ms/step - loss: 126978129920.0000\n",
      "Epoch 213/250\n",
      "400/400 [==============================] - 0s 878us/step - loss: 126997192704.0000\n",
      "Epoch 214/250\n",
      "400/400 [==============================] - 0s 840us/step - loss: 126985043968.0000\n",
      "Epoch 215/250\n",
      "400/400 [==============================] - 0s 1ms/step - loss: 126974787584.0000\n",
      "Epoch 216/250\n",
      "400/400 [==============================] - 0s 867us/step - loss: 126969225216.0000\n",
      "Epoch 217/250\n",
      "400/400 [==============================] - 0s 1ms/step - loss: 126991679488.0000\n",
      "Epoch 218/250\n",
      "400/400 [==============================] - 0s 868us/step - loss: 126926503936.0000\n",
      "Epoch 219/250\n",
      "400/400 [==============================] - 0s 886us/step - loss: 126955339776.0000\n",
      "Epoch 220/250\n",
      "400/400 [==============================] - 0s 836us/step - loss: 126970806272.0000\n",
      "Epoch 221/250\n",
      "400/400 [==============================] - 0s 919us/step - loss: 126966259712.0000\n",
      "Epoch 222/250\n",
      "400/400 [==============================] - 0s 1ms/step - loss: 126953422848.0000\n",
      "Epoch 223/250\n",
      "400/400 [==============================] - 0s 820us/step - loss: 126938513408.0000\n",
      "Epoch 224/250\n",
      "400/400 [==============================] - 0s 871us/step - loss: 126943256576.0000\n",
      "Epoch 225/250\n",
      "400/400 [==============================] - 0s 1ms/step - loss: 126950055936.0000\n",
      "Epoch 226/250\n",
      "400/400 [==============================] - 0s 937us/step - loss: 126957617152.0000\n",
      "Epoch 227/250\n",
      "400/400 [==============================] - 0s 894us/step - loss: 126932787200.0000\n",
      "Epoch 228/250\n",
      "400/400 [==============================] - 0s 871us/step - loss: 126977802240.0000\n",
      "Epoch 229/250\n",
      "400/400 [==============================] - 0s 918us/step - loss: 126980669440.0000\n",
      "Epoch 230/250\n",
      "400/400 [==============================] - 0s 874us/step - loss: 126946041856.0000\n",
      "Epoch 231/250\n",
      "400/400 [==============================] - 0s 909us/step - loss: 126967250944.0000\n",
      "Epoch 232/250\n",
      "400/400 [==============================] - 0s 922us/step - loss: 126970429440.0000\n",
      "Epoch 233/250\n",
      "400/400 [==============================] - 0s 839us/step - loss: 126971453440.0000\n",
      "Epoch 234/250\n",
      "400/400 [==============================] - 0s 956us/step - loss: 126928904192.0000\n",
      "Epoch 235/250\n",
      "400/400 [==============================] - 0s 990us/step - loss: 126919688192.0000\n",
      "Epoch 236/250\n",
      "400/400 [==============================] - 1s 1ms/step - loss: 126912741376.0000\n",
      "Epoch 237/250\n",
      "400/400 [==============================] - 1s 2ms/step - loss: 126998093824.0000\n",
      "Epoch 238/250\n",
      "400/400 [==============================] - 0s 836us/step - loss: 126905991168.0000\n",
      "Epoch 239/250\n",
      "400/400 [==============================] - 0s 703us/step - loss: 126924734464.0000\n",
      "Epoch 240/250\n",
      "400/400 [==============================] - 0s 725us/step - loss: 126935777280.0000\n",
      "Epoch 241/250\n",
      "400/400 [==============================] - 0s 648us/step - loss: 126933049344.0000\n",
      "Epoch 242/250\n",
      "400/400 [==============================] - 1s 1ms/step - loss: 126938554368.0000\n",
      "Epoch 243/250\n",
      "400/400 [==============================] - 1s 1ms/step - loss: 126900314112.0000\n",
      "Epoch 244/250\n",
      "400/400 [==============================] - 1s 2ms/step - loss: 126945394688.0000\n",
      "Epoch 245/250\n",
      "400/400 [==============================] - 1s 2ms/step - loss: 126927937536.0000\n",
      "Epoch 246/250\n",
      "400/400 [==============================] - 1s 2ms/step - loss: 126901559296.0000\n",
      "Epoch 247/250\n",
      "400/400 [==============================] - 1s 2ms/step - loss: 126857003008.0000\n",
      "Epoch 248/250\n",
      "400/400 [==============================] - 1s 2ms/step - loss: 126934835200.0000\n",
      "Epoch 249/250\n",
      "400/400 [==============================] - 1s 2ms/step - loss: 126919204864.0000\n",
      "Epoch 250/250\n",
      "400/400 [==============================] - 1s 1ms/step - loss: 126919458816.0000\n"
     ]
    },
    {
     "data": {
      "text/plain": [
       "<keras.src.callbacks.History at 0x7fba7b257070>"
      ]
     },
     "execution_count": 302,
     "metadata": {},
     "output_type": "execute_result"
    }
   ],
   "source": [
    "model.fit(X_train,y_train,epochs=250)"
   ]
  },
  {
   "cell_type": "markdown",
   "metadata": {},
   "source": [
    "#### 2.2 Évaluation"
   ]
  },
  {
   "cell_type": "code",
   "execution_count": 303,
   "metadata": {},
   "outputs": [
    {
     "data": {
      "text/plain": [
       "{'loss': [317580607488.0,\n",
       "  273793712128.0,\n",
       "  165341446144.0,\n",
       "  133728067584.0,\n",
       "  131622264832.0,\n",
       "  130823258112.0,\n",
       "  130318614528.0,\n",
       "  129882324992.0,\n",
       "  129543675904.0,\n",
       "  129197096960.0,\n",
       "  128969424896.0,\n",
       "  128715227136.0,\n",
       "  128543113216.0,\n",
       "  128415342592.0,\n",
       "  128285474816.0,\n",
       "  128181149696.0,\n",
       "  128081453056.0,\n",
       "  127936692224.0,\n",
       "  127888244736.0,\n",
       "  127869124608.0,\n",
       "  127840657408.0,\n",
       "  127717343232.0,\n",
       "  127623102464.0,\n",
       "  127681609728.0,\n",
       "  127610208256.0,\n",
       "  127572992000.0,\n",
       "  127552749568.0,\n",
       "  127543164928.0,\n",
       "  127543156736.0,\n",
       "  127491833856.0,\n",
       "  127454814208.0,\n",
       "  127406096384.0,\n",
       "  127467798528.0,\n",
       "  127420841984.0,\n",
       "  127460687872.0,\n",
       "  127369338880.0,\n",
       "  127409782784.0,\n",
       "  127388229632.0,\n",
       "  127391399936.0,\n",
       "  127370862592.0,\n",
       "  127378415616.0,\n",
       "  127376596992.0,\n",
       "  127361163264.0,\n",
       "  127335514112.0,\n",
       "  127368822784.0,\n",
       "  127374008320.0,\n",
       "  127314558976.0,\n",
       "  127368708096.0,\n",
       "  127323136000.0,\n",
       "  127355158528.0,\n",
       "  127350202368.0,\n",
       "  127332270080.0,\n",
       "  127320670208.0,\n",
       "  127304843264.0,\n",
       "  127353577472.0,\n",
       "  127277842432.0,\n",
       "  127335038976.0,\n",
       "  127296102400.0,\n",
       "  127344943104.0,\n",
       "  127299829760.0,\n",
       "  127275204608.0,\n",
       "  127327215616.0,\n",
       "  127269822464.0,\n",
       "  127278284800.0,\n",
       "  127331336192.0,\n",
       "  127347974144.0,\n",
       "  127251357696.0,\n",
       "  127273074688.0,\n",
       "  127271895040.0,\n",
       "  127227994112.0,\n",
       "  127285772288.0,\n",
       "  127282356224.0,\n",
       "  127276793856.0,\n",
       "  127263047680.0,\n",
       "  127285026816.0,\n",
       "  127209152512.0,\n",
       "  127209963520.0,\n",
       "  127252774912.0,\n",
       "  127282438144.0,\n",
       "  127229468672.0,\n",
       "  127229476864.0,\n",
       "  127227101184.0,\n",
       "  127212625920.0,\n",
       "  127174025216.0,\n",
       "  127253184512.0,\n",
       "  127212478464.0,\n",
       "  127231369216.0,\n",
       "  127214018560.0,\n",
       "  127200329728.0,\n",
       "  127191187456.0,\n",
       "  127181357056.0,\n",
       "  127151800320.0,\n",
       "  127133335552.0,\n",
       "  127227453440.0,\n",
       "  127157796864.0,\n",
       "  127175254016.0,\n",
       "  127178399744.0,\n",
       "  127159287808.0,\n",
       "  127159132160.0,\n",
       "  127181242368.0,\n",
       "  127174279168.0,\n",
       "  127211773952.0,\n",
       "  127130329088.0,\n",
       "  127219933184.0,\n",
       "  127185887232.0,\n",
       "  127146672128.0,\n",
       "  127169675264.0,\n",
       "  127170027520.0,\n",
       "  127168749568.0,\n",
       "  127153217536.0,\n",
       "  127134572544.0,\n",
       "  127144968192.0,\n",
       "  127136391168.0,\n",
       "  127172386816.0,\n",
       "  127114747904.0,\n",
       "  127120695296.0,\n",
       "  127072518144.0,\n",
       "  127133556736.0,\n",
       "  127144927232.0,\n",
       "  127115902976.0,\n",
       "  127131107328.0,\n",
       "  127101075456.0,\n",
       "  127134834688.0,\n",
       "  127103033344.0,\n",
       "  127147966464.0,\n",
       "  127149801472.0,\n",
       "  127096438784.0,\n",
       "  127099699200.0,\n",
       "  127121915904.0,\n",
       "  127159820288.0,\n",
       "  127107145728.0,\n",
       "  127085600768.0,\n",
       "  126979670016.0,\n",
       "  127118622720.0,\n",
       "  127129526272.0,\n",
       "  127106203648.0,\n",
       "  127071428608.0,\n",
       "  127105646592.0,\n",
       "  127067987968.0,\n",
       "  127075450880.0,\n",
       "  127060598784.0,\n",
       "  127052816384.0,\n",
       "  127105720320.0,\n",
       "  127077474304.0,\n",
       "  127093186560.0,\n",
       "  127123423232.0,\n",
       "  127071838208.0,\n",
       "  127102017536.0,\n",
       "  127067717632.0,\n",
       "  127069519872.0,\n",
       "  127093383168.0,\n",
       "  127060361216.0,\n",
       "  127068651520.0,\n",
       "  127086903296.0,\n",
       "  127047376896.0,\n",
       "  127054594048.0,\n",
       "  127018352640.0,\n",
       "  127029297152.0,\n",
       "  126976679936.0,\n",
       "  127132311552.0,\n",
       "  127066406912.0,\n",
       "  127054405632.0,\n",
       "  127037202432.0,\n",
       "  127085740032.0,\n",
       "  127027806208.0,\n",
       "  127062138880.0,\n",
       "  127000035328.0,\n",
       "  127070519296.0,\n",
       "  127056330752.0,\n",
       "  127006007296.0,\n",
       "  127045869568.0,\n",
       "  127038324736.0,\n",
       "  127072657408.0,\n",
       "  127004655616.0,\n",
       "  127005384704.0,\n",
       "  127087017984.0,\n",
       "  126948139008.0,\n",
       "  127088803840.0,\n",
       "  127027527680.0,\n",
       "  127016124416.0,\n",
       "  126955200512.0,\n",
       "  127022530560.0,\n",
       "  127042904064.0,\n",
       "  126994276352.0,\n",
       "  127017705472.0,\n",
       "  127047114752.0,\n",
       "  126981562368.0,\n",
       "  127016312832.0,\n",
       "  127033827328.0,\n",
       "  127012077568.0,\n",
       "  127010529280.0,\n",
       "  126998437888.0,\n",
       "  127002370048.0,\n",
       "  126980710400.0,\n",
       "  126990942208.0,\n",
       "  127008473088.0,\n",
       "  126979915776.0,\n",
       "  127017951232.0,\n",
       "  127012880384.0,\n",
       "  126995234816.0,\n",
       "  127012888576.0,\n",
       "  126968692736.0,\n",
       "  126986493952.0,\n",
       "  126961442816.0,\n",
       "  126951219200.0,\n",
       "  126962819072.0,\n",
       "  126951415808.0,\n",
       "  126976245760.0,\n",
       "  126969085952.0,\n",
       "  126935638016.0,\n",
       "  126984077312.0,\n",
       "  126978129920.0,\n",
       "  126997192704.0,\n",
       "  126985043968.0,\n",
       "  126974787584.0,\n",
       "  126969225216.0,\n",
       "  126991679488.0,\n",
       "  126926503936.0,\n",
       "  126955339776.0,\n",
       "  126970806272.0,\n",
       "  126966259712.0,\n",
       "  126953422848.0,\n",
       "  126938513408.0,\n",
       "  126943256576.0,\n",
       "  126950055936.0,\n",
       "  126957617152.0,\n",
       "  126932787200.0,\n",
       "  126977802240.0,\n",
       "  126980669440.0,\n",
       "  126946041856.0,\n",
       "  126967250944.0,\n",
       "  126970429440.0,\n",
       "  126971453440.0,\n",
       "  126928904192.0,\n",
       "  126919688192.0,\n",
       "  126912741376.0,\n",
       "  126998093824.0,\n",
       "  126905991168.0,\n",
       "  126924734464.0,\n",
       "  126935777280.0,\n",
       "  126933049344.0,\n",
       "  126938554368.0,\n",
       "  126900314112.0,\n",
       "  126945394688.0,\n",
       "  126927937536.0,\n",
       "  126901559296.0,\n",
       "  126857003008.0,\n",
       "  126934835200.0,\n",
       "  126919204864.0,\n",
       "  126919458816.0]}"
      ]
     },
     "execution_count": 303,
     "metadata": {},
     "output_type": "execute_result"
    }
   ],
   "source": [
    "model.history.history"
   ]
  },
  {
   "cell_type": "code",
   "execution_count": 304,
   "metadata": {},
   "outputs": [],
   "source": [
    "loss = model.history.history['loss']"
   ]
  },
  {
   "cell_type": "code",
   "execution_count": 305,
   "metadata": {},
   "outputs": [
    {
     "data": {
      "image/png": "[encoded data removed]",
      "text/plain": [
       "<Figure size 640x480 with 1 Axes>"
      ]
     },
     "metadata": {},
     "output_type": "display_data"
    }
   ],
   "source": [
    "sns.lineplot(x=range(len(loss)),y=loss)\n",
    "plt.title(\"Perte sur le set d'entraînement par Epoch\");"
   ]
  },
  {
   "cell_type": "markdown",
   "metadata": {},
   "source": [
    "#### Comparation de l'évaluation finale (MSE) sur le set d'entraînement et le set de test"
   ]
  },
  {
   "cell_type": "code",
   "execution_count": 306,
   "metadata": {},
   "outputs": [
    {
     "data": {
      "text/plain": [
       "['loss']"
      ]
     },
     "execution_count": 306,
     "metadata": {},
     "output_type": "execute_result"
    }
   ],
   "source": [
    "model.metrics_names"
   ]
  },
  {
   "cell_type": "code",
   "execution_count": 307,
   "metadata": {},
   "outputs": [
    {
     "name": "stdout",
     "output_type": "stream",
     "text": [
      "126821490688.0\n",
      "136637661184.0\n"
     ]
    }
   ],
   "source": [
    "training_score = model.evaluate(X_train, y_train, verbose=0)\n",
    "test_score = model.evaluate(X_test, y_test, verbose=0)\n",
    "print(training_score)\n",
    "print(test_score)"
   ]
  },
  {
   "cell_type": "markdown",
   "metadata": {},
   "source": [
    "#### Évaluations complémentaires"
   ]
  },
  {
   "cell_type": "code",
   "execution_count": 308,
   "metadata": {},
   "outputs": [
    {
     "name": "stdout",
     "output_type": "stream",
     "text": [
      "100/100 [==============================] - 0s 1ms/step\n"
     ]
    },
    {
     "data": {
      "text/plain": [
       "array([[185973.62],\n",
       "       [152492.1 ],\n",
       "       [152492.1 ],\n",
       "       ...,\n",
       "       [174984.08],\n",
       "       [748210.94],\n",
       "       [359012.8 ]], dtype=float32)"
      ]
     },
     "execution_count": 308,
     "metadata": {},
     "output_type": "execute_result"
    }
   ],
   "source": [
    "test_predictions = model.predict(X_test)\n",
    "test_predictions#[1:10]"
   ]
  },
  {
   "cell_type": "code",
   "execution_count": 309,
   "metadata": {},
   "outputs": [
    {
     "data": {
      "text/html": [
       "<div>\n",
       "<style scoped>\n",
       "    .dataframe tbody tr th:only-of-type {\n",
       "        vertical-align: middle;\n",
       "    }\n",
       "\n",
       "    .dataframe tbody tr th {\n",
       "        vertical-align: top;\n",
       "    }\n",
       "\n",
       "    .dataframe thead th {\n",
       "        text-align: right;\n",
       "    }\n",
       "</style>\n",
       "<table border=\"1\" class=\"dataframe\">\n",
       "  <thead>\n",
       "    <tr style=\"text-align: right;\">\n",
       "      <th></th>\n",
       "      <th>Test Y</th>\n",
       "    </tr>\n",
       "  </thead>\n",
       "  <tbody>\n",
       "    <tr>\n",
       "      <th>0</th>\n",
       "      <td>130000.0</td>\n",
       "    </tr>\n",
       "    <tr>\n",
       "      <th>1</th>\n",
       "      <td>109000.0</td>\n",
       "    </tr>\n",
       "    <tr>\n",
       "      <th>2</th>\n",
       "      <td>145000.0</td>\n",
       "    </tr>\n",
       "    <tr>\n",
       "      <th>3</th>\n",
       "      <td>67000.0</td>\n",
       "    </tr>\n",
       "    <tr>\n",
       "      <th>4</th>\n",
       "      <td>210000.0</td>\n",
       "    </tr>\n",
       "    <tr>\n",
       "      <th>...</th>\n",
       "      <td>...</td>\n",
       "    </tr>\n",
       "    <tr>\n",
       "      <th>3194</th>\n",
       "      <td>52000.0</td>\n",
       "    </tr>\n",
       "    <tr>\n",
       "      <th>3195</th>\n",
       "      <td>279000.0</td>\n",
       "    </tr>\n",
       "    <tr>\n",
       "      <th>3196</th>\n",
       "      <td>138000.0</td>\n",
       "    </tr>\n",
       "    <tr>\n",
       "      <th>3197</th>\n",
       "      <td>1350000.0</td>\n",
       "    </tr>\n",
       "    <tr>\n",
       "      <th>3198</th>\n",
       "      <td>420000.0</td>\n",
       "    </tr>\n",
       "  </tbody>\n",
       "</table>\n",
       "<p>3199 rows × 1 columns</p>\n",
       "</div>"
      ],
      "text/plain": [
       "         Test Y\n",
       "0      130000.0\n",
       "1      109000.0\n",
       "2      145000.0\n",
       "3       67000.0\n",
       "4      210000.0\n",
       "...         ...\n",
       "3194    52000.0\n",
       "3195   279000.0\n",
       "3196   138000.0\n",
       "3197  1350000.0\n",
       "3198   420000.0\n",
       "\n",
       "[3199 rows x 1 columns]"
      ]
     },
     "execution_count": 309,
     "metadata": {},
     "output_type": "execute_result"
    }
   ],
   "source": [
    "pred_data = pd.DataFrame(y_test, columns=['Test Y'])\n",
    "pred_data"
   ]
  },
  {
   "cell_type": "code",
   "execution_count": 310,
   "metadata": {},
   "outputs": [
    {
     "data": {
      "text/plain": [
       "0       185973.625000\n",
       "1       152492.093750\n",
       "2       152492.093750\n",
       "3       183777.406250\n",
       "4       186949.484375\n",
       "            ...      \n",
       "3194    166986.546875\n",
       "3195    196465.593750\n",
       "3196    174984.078125\n",
       "3197    748210.937500\n",
       "3198    359012.812500\n",
       "Length: 3199, dtype: float32"
      ]
     },
     "execution_count": 310,
     "metadata": {},
     "output_type": "execute_result"
    }
   ],
   "source": [
    "test_predictions = pd.Series(test_predictions.reshape(3199,))\n",
    "test_predictions"
   ]
  },
  {
   "cell_type": "code",
   "execution_count": 311,
   "metadata": {},
   "outputs": [],
   "source": [
    "pred_data = pd.concat([pred_data,test_predictions], axis=1)"
   ]
  },
  {
   "cell_type": "code",
   "execution_count": 312,
   "metadata": {},
   "outputs": [
    {
     "data": {
      "text/html": [
       "<div>\n",
       "<style scoped>\n",
       "    .dataframe tbody tr th:only-of-type {\n",
       "        vertical-align: middle;\n",
       "    }\n",
       "\n",
       "    .dataframe tbody tr th {\n",
       "        vertical-align: top;\n",
       "    }\n",
       "\n",
       "    .dataframe thead th {\n",
       "        text-align: right;\n",
       "    }\n",
       "</style>\n",
       "<table border=\"1\" class=\"dataframe\">\n",
       "  <thead>\n",
       "    <tr style=\"text-align: right;\">\n",
       "      <th></th>\n",
       "      <th>Test Y</th>\n",
       "      <th>Model Predictions</th>\n",
       "    </tr>\n",
       "  </thead>\n",
       "  <tbody>\n",
       "    <tr>\n",
       "      <th>0</th>\n",
       "      <td>130000.0</td>\n",
       "      <td>185973.625000</td>\n",
       "    </tr>\n",
       "    <tr>\n",
       "      <th>1</th>\n",
       "      <td>109000.0</td>\n",
       "      <td>152492.093750</td>\n",
       "    </tr>\n",
       "    <tr>\n",
       "      <th>2</th>\n",
       "      <td>145000.0</td>\n",
       "      <td>152492.093750</td>\n",
       "    </tr>\n",
       "    <tr>\n",
       "      <th>3</th>\n",
       "      <td>67000.0</td>\n",
       "      <td>183777.406250</td>\n",
       "    </tr>\n",
       "    <tr>\n",
       "      <th>4</th>\n",
       "      <td>210000.0</td>\n",
       "      <td>186949.484375</td>\n",
       "    </tr>\n",
       "    <tr>\n",
       "      <th>...</th>\n",
       "      <td>...</td>\n",
       "      <td>...</td>\n",
       "    </tr>\n",
       "    <tr>\n",
       "      <th>3194</th>\n",
       "      <td>52000.0</td>\n",
       "      <td>166986.546875</td>\n",
       "    </tr>\n",
       "    <tr>\n",
       "      <th>3195</th>\n",
       "      <td>279000.0</td>\n",
       "      <td>196465.593750</td>\n",
       "    </tr>\n",
       "    <tr>\n",
       "      <th>3196</th>\n",
       "      <td>138000.0</td>\n",
       "      <td>174984.078125</td>\n",
       "    </tr>\n",
       "    <tr>\n",
       "      <th>3197</th>\n",
       "      <td>1350000.0</td>\n",
       "      <td>748210.937500</td>\n",
       "    </tr>\n",
       "    <tr>\n",
       "      <th>3198</th>\n",
       "      <td>420000.0</td>\n",
       "      <td>359012.812500</td>\n",
       "    </tr>\n",
       "  </tbody>\n",
       "</table>\n",
       "<p>3199 rows × 2 columns</p>\n",
       "</div>"
      ],
      "text/plain": [
       "         Test Y  Model Predictions\n",
       "0      130000.0      185973.625000\n",
       "1      109000.0      152492.093750\n",
       "2      145000.0      152492.093750\n",
       "3       67000.0      183777.406250\n",
       "4      210000.0      186949.484375\n",
       "...         ...                ...\n",
       "3194    52000.0      166986.546875\n",
       "3195   279000.0      196465.593750\n",
       "3196   138000.0      174984.078125\n",
       "3197  1350000.0      748210.937500\n",
       "3198   420000.0      359012.812500\n",
       "\n",
       "[3199 rows x 2 columns]"
      ]
     },
     "execution_count": 312,
     "metadata": {},
     "output_type": "execute_result"
    }
   ],
   "source": [
    "pred_data.columns = ['Test Y','Model Predictions']\n",
    "pred_data"
   ]
  },
  {
   "cell_type": "code",
   "execution_count": 313,
   "metadata": {},
   "outputs": [
    {
     "data": {
      "text/plain": [
       "<Axes: xlabel='Test Y', ylabel='Model Predictions'>"
      ]
     },
     "execution_count": 313,
     "metadata": {},
     "output_type": "execute_result"
    },
    {
     "data": {
      "image/png": "[encoded data removed]",
      "text/plain": [
       "<Figure size 400x400 with 1 Axes>"
      ]
     },
     "metadata": {},
     "output_type": "display_data"
    }
   ],
   "source": [
    "plt.figure(figsize=(4,4))\n",
    "sns.scatterplot(x='Test Y',y='Model Predictions',data=pred_data)"
   ]
  },
  {
   "cell_type": "code",
   "execution_count": 314,
   "metadata": {},
   "outputs": [],
   "source": [
    "pred_data['Error'] = pred_data['Test Y'] - pred_data['Model Predictions']"
   ]
  },
  {
   "cell_type": "code",
   "execution_count": 315,
   "metadata": {},
   "outputs": [
    {
     "data": {
      "text/plain": [
       "<Axes: xlabel='Error', ylabel='Density'>"
      ]
     },
     "execution_count": 315,
     "metadata": {},
     "output_type": "execute_result"
    },
    {
     "data": {
      "image/png": "[encoded data removed]",
      "text/plain": [
       "<Figure size 640x480 with 1 Axes>"
      ]
     },
     "metadata": {},
     "output_type": "display_data"
    }
   ],
   "source": [
    "sns.distplot(pred_data['Error'],bins=50)"
   ]
  },
  {
   "cell_type": "code",
   "execution_count": 316,
   "metadata": {},
   "outputs": [],
   "source": [
    "from sklearn.metrics import mean_absolute_error,mean_squared_error"
   ]
  },
  {
   "cell_type": "code",
   "execution_count": 317,
   "metadata": {},
   "outputs": [
    {
     "data": {
      "text/plain": [
       "183898.22890356363"
      ]
     },
     "execution_count": 317,
     "metadata": {},
     "output_type": "execute_result"
    }
   ],
   "source": [
    "mean_absolute_error(pred_data['Test Y'],pred_data['Model Predictions'])"
   ]
  },
  {
   "cell_type": "code",
   "execution_count": 318,
   "metadata": {},
   "outputs": [
    {
     "data": {
      "text/plain": [
       "136637628205.60832"
      ]
     },
     "execution_count": 318,
     "metadata": {},
     "output_type": "execute_result"
    }
   ],
   "source": [
    "mean_squared_error(pred_data['Test Y'],pred_data['Model Predictions'])"
   ]
  },
  {
   "cell_type": "code",
   "execution_count": 319,
   "metadata": {},
   "outputs": [
    {
     "data": {
      "text/plain": [
       "136637661184.0"
      ]
     },
     "execution_count": 319,
     "metadata": {},
     "output_type": "execute_result"
    }
   ],
   "source": [
    "test_score"
   ]
  },
  {
   "cell_type": "code",
   "execution_count": 320,
   "metadata": {},
   "outputs": [
    {
     "data": {
      "text/plain": [
       "68318830592.0"
      ]
     },
     "execution_count": 320,
     "metadata": {},
     "output_type": "execute_result"
    }
   ],
   "source": [
    "test_score*0.5"
   ]
  }
 ],
 "metadata": {
  "kernelspec": {
   "display_name": "Python 3",
   "language": "python",
   "name": "python3"
  },
  "language_info": {
   "codemirror_mode": {
    "name": "ipython",
    "version": 3
   },
   "file_extension": ".py",
   "mimetype": "text/x-python",
   "name": "python",
   "nbconvert_exporter": "python",
   "pygments_lexer": "ipython3",
   "version": "3.10.12"
  }
 },
 "nbformat": 4,
 "nbformat_minor": 2
}
