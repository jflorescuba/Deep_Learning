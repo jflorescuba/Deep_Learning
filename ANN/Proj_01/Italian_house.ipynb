{
 "cells": [
  {
   "cell_type": "markdown",
   "metadata": {},
   "source": [
    "### Italian Houses Dataset in 2023\n",
    "- dataset : https://www.kaggle.com/datasets/alessandrolobello/italian-houses-dataset-2023\n",
    "\n",
    "- Features\n",
    "\n",
    "1. Price(€)\n",
    "2. Rooms\n",
    "3. mq : house square meters\n",
    "4. Type : house tipe, should be 1 ,2 or 3\n",
    "5. Desc : the house description in Italian\n",
    "6. City\n",
    "7. Street"
   ]
  },
  {
   "cell_type": "markdown",
   "metadata": {},
   "source": [
    "#### 1. Les données"
   ]
  },
  {
   "cell_type": "markdown",
   "metadata": {},
   "source": [
    "#### 1.1 Chargement des données"
   ]
  },
  {
   "cell_type": "code",
   "execution_count": 75,
   "metadata": {},
   "outputs": [],
   "source": [
    "import pandas as pd"
   ]
  },
  {
   "cell_type": "code",
   "execution_count": 76,
   "metadata": {},
   "outputs": [
    {
     "name": "stdout",
     "output_type": "stream",
     "text": [
      "(15998, 8)\n"
     ]
    },
    {
     "data": {
      "text/html": [
       "<div>\n",
       "<style scoped>\n",
       "    .dataframe tbody tr th:only-of-type {\n",
       "        vertical-align: middle;\n",
       "    }\n",
       "\n",
       "    .dataframe tbody tr th {\n",
       "        vertical-align: top;\n",
       "    }\n",
       "\n",
       "    .dataframe thead th {\n",
       "        text-align: right;\n",
       "    }\n",
       "</style>\n",
       "<table border=\"1\" class=\"dataframe\">\n",
       "  <thead>\n",
       "    <tr style=\"text-align: right;\">\n",
       "      <th></th>\n",
       "      <th>Price(€)</th>\n",
       "      <th>Rooms</th>\n",
       "      <th>mq</th>\n",
       "      <th>Type</th>\n",
       "      <th>Desc</th>\n",
       "      <th>City</th>\n",
       "      <th>Zone</th>\n",
       "      <th>Street</th>\n",
       "    </tr>\n",
       "  </thead>\n",
       "  <tbody>\n",
       "    <tr>\n",
       "      <th>0</th>\n",
       "      <td>142000.0</td>\n",
       "      <td>4</td>\n",
       "      <td>130</td>\n",
       "      <td>1</td>\n",
       "      <td>In via Ettore Vitale, strada principale del qu...</td>\n",
       "      <td>Catanzaro</td>\n",
       "      <td>Pontegrande - Sant'Elia</td>\n",
       "      <td>Via Ettore Vitale, 12</td>\n",
       "    </tr>\n",
       "    <tr>\n",
       "      <th>1</th>\n",
       "      <td>249000.0</td>\n",
       "      <td>4</td>\n",
       "      <td>108</td>\n",
       "      <td>1</td>\n",
       "      <td>Rif: PRQUAD - La Tempocasa di Cagliari San Ben...</td>\n",
       "      <td>Cagliari</td>\n",
       "      <td>San Benedetto</td>\n",
       "      <td>Via Giovan Battista Pergolesi</td>\n",
       "    </tr>\n",
       "    <tr>\n",
       "      <th>2</th>\n",
       "      <td>495000.0</td>\n",
       "      <td>5</td>\n",
       "      <td>117</td>\n",
       "      <td>2</td>\n",
       "      <td>Living Alberione: Luminoso attico collocato al...</td>\n",
       "      <td>Trento</td>\n",
       "      <td>San Pio X</td>\n",
       "      <td>via alberione</td>\n",
       "    </tr>\n",
       "    <tr>\n",
       "      <th>3</th>\n",
       "      <td>89000.0</td>\n",
       "      <td>3</td>\n",
       "      <td>93</td>\n",
       "      <td>1</td>\n",
       "      <td>Cornigliano/Coronata parte alta, Via Paradisio...</td>\n",
       "      <td>Genova</td>\n",
       "      <td>Cornigliano</td>\n",
       "      <td>Via Paradiso</td>\n",
       "    </tr>\n",
       "    <tr>\n",
       "      <th>4</th>\n",
       "      <td>495000.0</td>\n",
       "      <td>5</td>\n",
       "      <td>89</td>\n",
       "      <td>2</td>\n",
       "      <td>In Vendita Loft/Mansarda a Venezia Sestiere di...</td>\n",
       "      <td>Venezia</td>\n",
       "      <td>Arsenale - Giardini della Biennale</td>\n",
       "      <td>CASTELLO</td>\n",
       "    </tr>\n",
       "  </tbody>\n",
       "</table>\n",
       "</div>"
      ],
      "text/plain": [
       "   Price(€)  Rooms   mq  Type  \\\n",
       "0  142000.0      4  130     1   \n",
       "1  249000.0      4  108     1   \n",
       "2  495000.0      5  117     2   \n",
       "3   89000.0      3   93     1   \n",
       "4  495000.0      5   89     2   \n",
       "\n",
       "                                                Desc       City  \\\n",
       "0  In via Ettore Vitale, strada principale del qu...  Catanzaro   \n",
       "1  Rif: PRQUAD - La Tempocasa di Cagliari San Ben...   Cagliari   \n",
       "2  Living Alberione: Luminoso attico collocato al...     Trento   \n",
       "3  Cornigliano/Coronata parte alta, Via Paradisio...     Genova   \n",
       "4  In Vendita Loft/Mansarda a Venezia Sestiere di...    Venezia   \n",
       "\n",
       "                                 Zone                         Street  \n",
       "0             Pontegrande - Sant'Elia          Via Ettore Vitale, 12  \n",
       "1                       San Benedetto  Via Giovan Battista Pergolesi  \n",
       "2                           San Pio X                  via alberione  \n",
       "3                         Cornigliano                   Via Paradiso  \n",
       "4  Arsenale - Giardini della Biennale                       CASTELLO  "
      ]
     },
     "execution_count": 76,
     "metadata": {},
     "output_type": "execute_result"
    }
   ],
   "source": [
    "df = pd.read_csv('Italian_house_price.csv')\n",
    "print(df.shape)\n",
    "df.head()"
   ]
  },
  {
   "cell_type": "code",
   "execution_count": 77,
   "metadata": {},
   "outputs": [
    {
     "name": "stdout",
     "output_type": "stream",
     "text": [
      "<class 'pandas.core.frame.DataFrame'>\n",
      "RangeIndex: 15998 entries, 0 to 15997\n",
      "Data columns (total 8 columns):\n",
      " #   Column    Non-Null Count  Dtype  \n",
      "---  ------    --------------  -----  \n",
      " 0   Price(€)  15998 non-null  float64\n",
      " 1   Rooms     15998 non-null  int64  \n",
      " 2   mq        15998 non-null  int64  \n",
      " 3   Type      15998 non-null  int64  \n",
      " 4   Desc      15993 non-null  object \n",
      " 5   City      15998 non-null  object \n",
      " 6   Zone      15998 non-null  object \n",
      " 7   Street    15998 non-null  object \n",
      "dtypes: float64(1), int64(3), object(4)\n",
      "memory usage: 1000.0+ KB\n"
     ]
    }
   ],
   "source": [
    "df.info();"
   ]
  },
  {
   "cell_type": "code",
   "execution_count": 78,
   "metadata": {},
   "outputs": [
    {
     "data": {
      "text/html": [
       "<div>\n",
       "<style scoped>\n",
       "    .dataframe tbody tr th:only-of-type {\n",
       "        vertical-align: middle;\n",
       "    }\n",
       "\n",
       "    .dataframe tbody tr th {\n",
       "        vertical-align: top;\n",
       "    }\n",
       "\n",
       "    .dataframe thead th {\n",
       "        text-align: right;\n",
       "    }\n",
       "</style>\n",
       "<table border=\"1\" class=\"dataframe\">\n",
       "  <thead>\n",
       "    <tr style=\"text-align: right;\">\n",
       "      <th></th>\n",
       "      <th>Price(€)</th>\n",
       "      <th>Rooms</th>\n",
       "      <th>mq</th>\n",
       "      <th>Type</th>\n",
       "    </tr>\n",
       "  </thead>\n",
       "  <tbody>\n",
       "    <tr>\n",
       "      <th>0</th>\n",
       "      <td>142000.0</td>\n",
       "      <td>4</td>\n",
       "      <td>130</td>\n",
       "      <td>1</td>\n",
       "    </tr>\n",
       "    <tr>\n",
       "      <th>1</th>\n",
       "      <td>249000.0</td>\n",
       "      <td>4</td>\n",
       "      <td>108</td>\n",
       "      <td>1</td>\n",
       "    </tr>\n",
       "    <tr>\n",
       "      <th>2</th>\n",
       "      <td>495000.0</td>\n",
       "      <td>5</td>\n",
       "      <td>117</td>\n",
       "      <td>2</td>\n",
       "    </tr>\n",
       "    <tr>\n",
       "      <th>3</th>\n",
       "      <td>89000.0</td>\n",
       "      <td>3</td>\n",
       "      <td>93</td>\n",
       "      <td>1</td>\n",
       "    </tr>\n",
       "    <tr>\n",
       "      <th>4</th>\n",
       "      <td>495000.0</td>\n",
       "      <td>5</td>\n",
       "      <td>89</td>\n",
       "      <td>2</td>\n",
       "    </tr>\n",
       "  </tbody>\n",
       "</table>\n",
       "</div>"
      ],
      "text/plain": [
       "   Price(€)  Rooms   mq  Type\n",
       "0  142000.0      4  130     1\n",
       "1  249000.0      4  108     1\n",
       "2  495000.0      5  117     2\n",
       "3   89000.0      3   93     1\n",
       "4  495000.0      5   89     2"
      ]
     },
     "execution_count": 78,
     "metadata": {},
     "output_type": "execute_result"
    }
   ],
   "source": [
    "data = df.iloc[:,0:4]\n",
    "data.head()"
   ]
  },
  {
   "cell_type": "code",
   "execution_count": 79,
   "metadata": {},
   "outputs": [
    {
     "data": {
      "text/plain": [
       "Type\n",
       "1    8423\n",
       "2    5816\n",
       "3    1759\n",
       "Name: count, dtype: int64"
      ]
     },
     "execution_count": 79,
     "metadata": {},
     "output_type": "execute_result"
    }
   ],
   "source": [
    "data['Type'].value_counts()"
   ]
  },
  {
   "cell_type": "code",
   "execution_count": 80,
   "metadata": {},
   "outputs": [
    {
     "name": "stdout",
     "output_type": "stream",
     "text": [
      "done\n"
     ]
    }
   ],
   "source": [
    "new_columns = [1,2,3]\n",
    "\n",
    "existing_new_columns = set(data.columns)\n",
    "new_columns = [col for col in new_columns if col not in existing_new_columns]\n",
    "\n",
    "if new_columns:\n",
    "    one_hot_colonnes = pd.get_dummies(data['Type'],dtype=int)\n",
    "    data = pd.concat([data,one_hot_colonnes],axis=1)\n",
    "    data = data.drop(['Type'],axis=1)\n",
    "    print('done')\n",
    "else: \n",
    "    print('already done')"
   ]
  },
  {
   "cell_type": "code",
   "execution_count": 81,
   "metadata": {},
   "outputs": [
    {
     "data": {
      "text/html": [
       "<div>\n",
       "<style scoped>\n",
       "    .dataframe tbody tr th:only-of-type {\n",
       "        vertical-align: middle;\n",
       "    }\n",
       "\n",
       "    .dataframe tbody tr th {\n",
       "        vertical-align: top;\n",
       "    }\n",
       "\n",
       "    .dataframe thead th {\n",
       "        text-align: right;\n",
       "    }\n",
       "</style>\n",
       "<table border=\"1\" class=\"dataframe\">\n",
       "  <thead>\n",
       "    <tr style=\"text-align: right;\">\n",
       "      <th></th>\n",
       "      <th>Price(€)</th>\n",
       "      <th>Rooms</th>\n",
       "      <th>mq</th>\n",
       "      <th>1</th>\n",
       "      <th>2</th>\n",
       "      <th>3</th>\n",
       "    </tr>\n",
       "  </thead>\n",
       "  <tbody>\n",
       "    <tr>\n",
       "      <th>0</th>\n",
       "      <td>142000.0</td>\n",
       "      <td>4</td>\n",
       "      <td>130</td>\n",
       "      <td>1</td>\n",
       "      <td>0</td>\n",
       "      <td>0</td>\n",
       "    </tr>\n",
       "    <tr>\n",
       "      <th>1</th>\n",
       "      <td>249000.0</td>\n",
       "      <td>4</td>\n",
       "      <td>108</td>\n",
       "      <td>1</td>\n",
       "      <td>0</td>\n",
       "      <td>0</td>\n",
       "    </tr>\n",
       "    <tr>\n",
       "      <th>2</th>\n",
       "      <td>495000.0</td>\n",
       "      <td>5</td>\n",
       "      <td>117</td>\n",
       "      <td>0</td>\n",
       "      <td>1</td>\n",
       "      <td>0</td>\n",
       "    </tr>\n",
       "    <tr>\n",
       "      <th>3</th>\n",
       "      <td>89000.0</td>\n",
       "      <td>3</td>\n",
       "      <td>93</td>\n",
       "      <td>1</td>\n",
       "      <td>0</td>\n",
       "      <td>0</td>\n",
       "    </tr>\n",
       "    <tr>\n",
       "      <th>4</th>\n",
       "      <td>495000.0</td>\n",
       "      <td>5</td>\n",
       "      <td>89</td>\n",
       "      <td>0</td>\n",
       "      <td>1</td>\n",
       "      <td>0</td>\n",
       "    </tr>\n",
       "  </tbody>\n",
       "</table>\n",
       "</div>"
      ],
      "text/plain": [
       "   Price(€)  Rooms   mq  1  2  3\n",
       "0  142000.0      4  130  1  0  0\n",
       "1  249000.0      4  108  1  0  0\n",
       "2  495000.0      5  117  0  1  0\n",
       "3   89000.0      3   93  1  0  0\n",
       "4  495000.0      5   89  0  1  0"
      ]
     },
     "execution_count": 81,
     "metadata": {},
     "output_type": "execute_result"
    }
   ],
   "source": [
    "data.head()"
   ]
  },
  {
   "cell_type": "markdown",
   "metadata": {},
   "source": [
    "#### 1.2 Exploration des données"
   ]
  },
  {
   "cell_type": "code",
   "execution_count": 82,
   "metadata": {},
   "outputs": [],
   "source": [
    "import seaborn as sns\n",
    "import matplotlib.pyplot as plt"
   ]
  },
  {
   "cell_type": "code",
   "execution_count": 83,
   "metadata": {},
   "outputs": [],
   "source": [
    "# Ignorer les warning\n",
    "import warnings\n",
    "warnings.filterwarnings('ignore')"
   ]
  },
  {
   "cell_type": "code",
   "execution_count": 84,
   "metadata": {},
   "outputs": [
    {
     "data": {
      "image/png": "[encoded data removed]",
      "text/plain": [
       "<Figure size 1500x1500 with 42 Axes>"
      ]
     },
     "metadata": {},
     "output_type": "display_data"
    }
   ],
   "source": [
    "sns.pairplot(data);"
   ]
  },
  {
   "cell_type": "code",
   "execution_count": 85,
   "metadata": {},
   "outputs": [
    {
     "data": {
      "text/plain": [
       "<Axes: ylabel='Rooms'>"
      ]
     },
     "execution_count": 85,
     "metadata": {},
     "output_type": "execute_result"
    },
    {
     "data": {
      "image/png": "[encoded data removed]",
      "text/plain": [
       "<Figure size 300x300 with 1 Axes>"
      ]
     },
     "metadata": {},
     "output_type": "display_data"
    }
   ],
   "source": [
    "# on regarde des données aberrantes dans le categorie Rooms\n",
    "plt.figure(figsize=(3,3))\n",
    "sns.boxplot(data.Rooms)"
   ]
  },
  {
   "cell_type": "code",
   "execution_count": 86,
   "metadata": {},
   "outputs": [
    {
     "data": {
      "text/plain": [
       "count    15998.00\n",
       "mean         3.63\n",
       "std          1.90\n",
       "min          0.00\n",
       "25%          3.00\n",
       "50%          4.00\n",
       "75%          5.00\n",
       "max        140.00\n",
       "Name: Rooms, dtype: float64"
      ]
     },
     "execution_count": 86,
     "metadata": {},
     "output_type": "execute_result"
    }
   ],
   "source": [
    "data['Rooms'].describe().round(2)"
   ]
  },
  {
   "cell_type": "code",
   "execution_count": 87,
   "metadata": {},
   "outputs": [
    {
     "data": {
      "text/plain": [
       "(15995, 6)"
      ]
     },
     "execution_count": 87,
     "metadata": {},
     "output_type": "execute_result"
    }
   ],
   "source": [
    "# filtrage des données aberrantes dans le catégorie Rooms\n",
    "data = data[data['Rooms']<=20]\n",
    "data.shape"
   ]
  },
  {
   "cell_type": "code",
   "execution_count": 88,
   "metadata": {},
   "outputs": [
    {
     "data": {
      "text/plain": [
       "<Axes: ylabel='Rooms'>"
      ]
     },
     "execution_count": 88,
     "metadata": {},
     "output_type": "execute_result"
    },
    {
     "data": {
      "image/png": "[encoded data removed]",
      "text/plain": [
       "<Figure size 300x300 with 1 Axes>"
      ]
     },
     "metadata": {},
     "output_type": "display_data"
    }
   ],
   "source": [
    "plt.figure(figsize=(3,3))\n",
    "sns.boxplot(data.Rooms)"
   ]
  },
  {
   "cell_type": "code",
   "execution_count": 89,
   "metadata": {},
   "outputs": [
    {
     "data": {
      "text/plain": [
       "<Axes: xlabel='Price(€)', ylabel='Rooms'>"
      ]
     },
     "execution_count": 89,
     "metadata": {},
     "output_type": "execute_result"
    },
    {
     "data": {
      "image/png": "[encoded data removed]",
      "text/plain": [
       "<Figure size 300x300 with 1 Axes>"
      ]
     },
     "metadata": {},
     "output_type": "display_data"
    }
   ],
   "source": [
    "plt.figure(figsize=(3,3))\n",
    "sns.scatterplot(x=data['Price(€)'],y=data['Rooms'])"
   ]
  },
  {
   "cell_type": "markdown",
   "metadata": {},
   "source": [
    "#### 1.3 Répartition Entrenaînement / Test (Train / Test)"
   ]
  },
  {
   "cell_type": "code",
   "execution_count": 90,
   "metadata": {},
   "outputs": [],
   "source": [
    "from sklearn.model_selection import train_test_split"
   ]
  },
  {
   "cell_type": "code",
   "execution_count": 91,
   "metadata": {},
   "outputs": [],
   "source": [
    "# Features (ou caractéristiques)\n",
    "X = data.drop('Price(€)',axis=1).values\n",
    "# Label (ou étiquette)\n",
    "y = data['Price(€)'].values\n",
    "\n",
    "# usamos extension values para extraer los valores en un arreglo numpy sin que altere nada en data\n",
    "\n",
    "# Split (séparation / répartition)\n",
    "X_train, X_test, y_train, y_test = train_test_split(X, y, test_size= 0.2, random_state=10)\n"
   ]
  },
  {
   "cell_type": "code",
   "execution_count": 92,
   "metadata": {},
   "outputs": [
    {
     "data": {
      "text/plain": [
       "(12796, 5)"
      ]
     },
     "execution_count": 92,
     "metadata": {},
     "output_type": "execute_result"
    }
   ],
   "source": [
    "X_train.shape"
   ]
  },
  {
   "cell_type": "code",
   "execution_count": 93,
   "metadata": {},
   "outputs": [
    {
     "data": {
      "text/plain": [
       "(3199, 5)"
      ]
     },
     "execution_count": 93,
     "metadata": {},
     "output_type": "execute_result"
    }
   ],
   "source": [
    "X_test.shape"
   ]
  },
  {
   "cell_type": "code",
   "execution_count": 94,
   "metadata": {},
   "outputs": [
    {
     "data": {
      "text/plain": [
       "(12796,)"
      ]
     },
     "execution_count": 94,
     "metadata": {},
     "output_type": "execute_result"
    }
   ],
   "source": [
    "y_train.shape"
   ]
  },
  {
   "cell_type": "code",
   "execution_count": 95,
   "metadata": {},
   "outputs": [
    {
     "data": {
      "text/plain": [
       "(3199,)"
      ]
     },
     "execution_count": 95,
     "metadata": {},
     "output_type": "execute_result"
    }
   ],
   "source": [
    "y_test.shape"
   ]
  },
  {
   "cell_type": "markdown",
   "metadata": {},
   "source": [
    "#### 1.4 Normalisation et mise à l'echelle des données"
   ]
  },
  {
   "cell_type": "code",
   "execution_count": 96,
   "metadata": {},
   "outputs": [],
   "source": [
    "from sklearn.preprocessing import MinMaxScaler"
   ]
  },
  {
   "cell_type": "code",
   "execution_count": 97,
   "metadata": {},
   "outputs": [],
   "source": [
    "scaler = MinMaxScaler()"
   ]
  },
  {
   "cell_type": "code",
   "execution_count": 98,
   "metadata": {},
   "outputs": [
    {
     "data": {
      "text/html": [
       "<style>#sk-container-id-2 {color: black;}#sk-container-id-2 pre{padding: 0;}#sk-container-id-2 div.sk-toggleable {background-color: white;}#sk-container-id-2 label.sk-toggleable__label {cursor: pointer;display: block;width: 100%;margin-bottom: 0;padding: 0.3em;box-sizing: border-box;text-align: center;}#sk-container-id-2 label.sk-toggleable__label-arrow:before {content: \"▸\";float: left;margin-right: 0.25em;color: #696969;}#sk-container-id-2 label.sk-toggleable__label-arrow:hover:before {color: black;}#sk-container-id-2 div.sk-estimator:hover label.sk-toggleable__label-arrow:before {color: black;}#sk-container-id-2 div.sk-toggleable__content {max-height: 0;max-width: 0;overflow: hidden;text-align: left;background-color: #f0f8ff;}#sk-container-id-2 div.sk-toggleable__content pre {margin: 0.2em;color: black;border-radius: 0.25em;background-color: #f0f8ff;}#sk-container-id-2 input.sk-toggleable__control:checked~div.sk-toggleable__content {max-height: 200px;max-width: 100%;overflow: auto;}#sk-container-id-2 input.sk-toggleable__control:checked~label.sk-toggleable__label-arrow:before {content: \"▾\";}#sk-container-id-2 div.sk-estimator input.sk-toggleable__control:checked~label.sk-toggleable__label {background-color: #d4ebff;}#sk-container-id-2 div.sk-label input.sk-toggleable__control:checked~label.sk-toggleable__label {background-color: #d4ebff;}#sk-container-id-2 input.sk-hidden--visually {border: 0;clip: rect(1px 1px 1px 1px);clip: rect(1px, 1px, 1px, 1px);height: 1px;margin: -1px;overflow: hidden;padding: 0;position: absolute;width: 1px;}#sk-container-id-2 div.sk-estimator {font-family: monospace;background-color: #f0f8ff;border: 1px dotted black;border-radius: 0.25em;box-sizing: border-box;margin-bottom: 0.5em;}#sk-container-id-2 div.sk-estimator:hover {background-color: #d4ebff;}#sk-container-id-2 div.sk-parallel-item::after {content: \"\";width: 100%;border-bottom: 1px solid gray;flex-grow: 1;}#sk-container-id-2 div.sk-label:hover label.sk-toggleable__label {background-color: #d4ebff;}#sk-container-id-2 div.sk-serial::before {content: \"\";position: absolute;border-left: 1px solid gray;box-sizing: border-box;top: 0;bottom: 0;left: 50%;z-index: 0;}#sk-container-id-2 div.sk-serial {display: flex;flex-direction: column;align-items: center;background-color: white;padding-right: 0.2em;padding-left: 0.2em;position: relative;}#sk-container-id-2 div.sk-item {position: relative;z-index: 1;}#sk-container-id-2 div.sk-parallel {display: flex;align-items: stretch;justify-content: center;background-color: white;position: relative;}#sk-container-id-2 div.sk-item::before, #sk-container-id-2 div.sk-parallel-item::before {content: \"\";position: absolute;border-left: 1px solid gray;box-sizing: border-box;top: 0;bottom: 0;left: 50%;z-index: -1;}#sk-container-id-2 div.sk-parallel-item {display: flex;flex-direction: column;z-index: 1;position: relative;background-color: white;}#sk-container-id-2 div.sk-parallel-item:first-child::after {align-self: flex-end;width: 50%;}#sk-container-id-2 div.sk-parallel-item:last-child::after {align-self: flex-start;width: 50%;}#sk-container-id-2 div.sk-parallel-item:only-child::after {width: 0;}#sk-container-id-2 div.sk-dashed-wrapped {border: 1px dashed gray;margin: 0 0.4em 0.5em 0.4em;box-sizing: border-box;padding-bottom: 0.4em;background-color: white;}#sk-container-id-2 div.sk-label label {font-family: monospace;font-weight: bold;display: inline-block;line-height: 1.2em;}#sk-container-id-2 div.sk-label-container {text-align: center;}#sk-container-id-2 div.sk-container {/* jupyter's `normalize.less` sets `[hidden] { display: none; }` but bootstrap.min.css set `[hidden] { display: none !important; }` so we also need the `!important` here to be able to override the default hidden behavior on the sphinx rendered scikit-learn.org. See: https://github.com/scikit-learn/scikit-learn/issues/21755 */display: inline-block !important;position: relative;}#sk-container-id-2 div.sk-text-repr-fallback {display: none;}</style><div id=\"sk-container-id-2\" class=\"sk-top-container\"><div class=\"sk-text-repr-fallback\"><pre>MinMaxScaler()</pre><b>In a Jupyter environment, please rerun this cell to show the HTML representation or trust the notebook. <br />On GitHub, the HTML representation is unable to render, please try loading this page with nbviewer.org.</b></div><div class=\"sk-container\" hidden><div class=\"sk-item\"><div class=\"sk-estimator sk-toggleable\"><input class=\"sk-toggleable__control sk-hidden--visually\" id=\"sk-estimator-id-2\" type=\"checkbox\" checked><label for=\"sk-estimator-id-2\" class=\"sk-toggleable__label sk-toggleable__label-arrow\">MinMaxScaler</label><div class=\"sk-toggleable__content\"><pre>MinMaxScaler()</pre></div></div></div></div></div>"
      ],
      "text/plain": [
       "MinMaxScaler()"
      ]
     },
     "execution_count": 98,
     "metadata": {},
     "output_type": "execute_result"
    }
   ],
   "source": [
    "scaler.fit(X_train)"
   ]
  },
  {
   "cell_type": "code",
   "execution_count": 99,
   "metadata": {},
   "outputs": [],
   "source": [
    "X_train = scaler.transform(X_train)\n",
    "X_test = scaler.transform(X_test)"
   ]
  },
  {
   "cell_type": "markdown",
   "metadata": {},
   "source": [
    "#### 2. Création du modèle"
   ]
  },
  {
   "cell_type": "code",
   "execution_count": 100,
   "metadata": {},
   "outputs": [],
   "source": [
    "import tensorflow as tf\n",
    "from tensorflow.keras.models import Sequential\n",
    "from tensorflow.keras.layers import Dense, Activation"
   ]
  },
  {
   "cell_type": "code",
   "execution_count": 101,
   "metadata": {},
   "outputs": [],
   "source": [
    "#model = Sequential()\n",
    "\n",
    "#model.add(Dense(2))\n",
    "#model.add(Dense(2))\n",
    "#model.add(Dense(2))"
   ]
  },
  {
   "cell_type": "code",
   "execution_count": 102,
   "metadata": {},
   "outputs": [],
   "source": [
    "model = Sequential()\n",
    "\n",
    "model.add(Dense(4,activation= 'relu'))\n",
    "model.add(Dense(4,activation= 'relu'))\n",
    "model.add(Dense(4,activation= 'relu'))\n",
    "\n",
    "model.add(Dense(1))\n",
    "\n",
    "model.compile(optimizer='rmsprop', loss='mse')"
   ]
  },
  {
   "cell_type": "markdown",
   "metadata": {},
   "source": [
    "#### 2.1 Entraînement"
   ]
  },
  {
   "cell_type": "code",
   "execution_count": 103,
   "metadata": {},
   "outputs": [
    {
     "name": "stdout",
     "output_type": "stream",
     "text": [
      "Epoch 1/250\n",
      "  1/400 [..............................] - ETA: 2:08 - loss: 330983374848.0000"
     ]
    },
    {
     "name": "stdout",
     "output_type": "stream",
     "text": [
      "400/400 [==============================] - 1s 963us/step - loss: 319256068096.0000\n",
      "Epoch 2/250\n",
      "400/400 [==============================] - 0s 634us/step - loss: 319242600448.0000\n",
      "Epoch 3/250\n",
      "400/400 [==============================] - 0s 785us/step - loss: 319192629248.0000\n",
      "Epoch 4/250\n",
      "400/400 [==============================] - 0s 647us/step - loss: 319066243072.0000\n",
      "Epoch 5/250\n",
      "400/400 [==============================] - 0s 818us/step - loss: 318811045888.0000\n",
      "Epoch 6/250\n",
      "400/400 [==============================] - 0s 737us/step - loss: 318361174016.0000\n",
      "Epoch 7/250\n",
      "400/400 [==============================] - 0s 826us/step - loss: 317637885952.0000\n",
      "Epoch 8/250\n",
      "400/400 [==============================] - 0s 1ms/step - loss: 316554379264.0000\n",
      "Epoch 9/250\n",
      "400/400 [==============================] - 1s 2ms/step - loss: 315006943232.0000\n",
      "Epoch 10/250\n",
      "400/400 [==============================] - 0s 867us/step - loss: 312836882432.0000\n",
      "Epoch 11/250\n",
      "400/400 [==============================] - 0s 808us/step - loss: 310035611648.0000\n",
      "Epoch 12/250\n",
      "400/400 [==============================] - 0s 766us/step - loss: 306388107264.0000\n",
      "Epoch 13/250\n",
      "400/400 [==============================] - 0s 789us/step - loss: 301831159808.0000\n",
      "Epoch 14/250\n",
      "400/400 [==============================] - 0s 777us/step - loss: 296188575744.0000\n",
      "Epoch 15/250\n",
      "400/400 [==============================] - 0s 775us/step - loss: 289460486144.0000\n",
      "Epoch 16/250\n",
      "400/400 [==============================] - 0s 786us/step - loss: 281674448896.0000\n",
      "Epoch 17/250\n",
      "400/400 [==============================] - 0s 771us/step - loss: 272739401728.0000\n",
      "Epoch 18/250\n",
      "400/400 [==============================] - 0s 764us/step - loss: 262712737792.0000\n",
      "Epoch 19/250\n",
      "400/400 [==============================] - 0s 803us/step - loss: 251585445888.0000\n",
      "Epoch 20/250\n",
      "400/400 [==============================] - 0s 870us/step - loss: 240054763520.0000\n",
      "Epoch 21/250\n",
      "400/400 [==============================] - 0s 947us/step - loss: 228008067072.0000\n",
      "Epoch 22/250\n",
      "400/400 [==============================] - 0s 651us/step - loss: 216250138624.0000\n",
      "Epoch 23/250\n",
      "400/400 [==============================] - 0s 869us/step - loss: 205328154624.0000\n",
      "Epoch 24/250\n",
      "400/400 [==============================] - 0s 791us/step - loss: 195629072384.0000\n",
      "Epoch 25/250\n",
      "400/400 [==============================] - 0s 755us/step - loss: 187985018880.0000\n",
      "Epoch 26/250\n",
      "400/400 [==============================] - 0s 830us/step - loss: 182441771008.0000\n",
      "Epoch 27/250\n",
      "400/400 [==============================] - 0s 751us/step - loss: 178799853568.0000\n",
      "Epoch 28/250\n",
      "400/400 [==============================] - 0s 751us/step - loss: 176406740992.0000\n",
      "Epoch 29/250\n",
      "400/400 [==============================] - 0s 924us/step - loss: 174620360704.0000\n",
      "Epoch 30/250\n",
      "400/400 [==============================] - 0s 867us/step - loss: 173141426176.0000\n",
      "Epoch 31/250\n",
      "400/400 [==============================] - 0s 922us/step - loss: 171798298624.0000\n",
      "Epoch 32/250\n",
      "400/400 [==============================] - 0s 721us/step - loss: 170471227392.0000\n",
      "Epoch 33/250\n",
      "400/400 [==============================] - 0s 785us/step - loss: 169199009792.0000\n",
      "Epoch 34/250\n",
      "400/400 [==============================] - 0s 754us/step - loss: 167913717760.0000\n",
      "Epoch 35/250\n",
      "400/400 [==============================] - 0s 717us/step - loss: 166643335168.0000\n",
      "Epoch 36/250\n",
      "400/400 [==============================] - 0s 716us/step - loss: 165384585216.0000\n",
      "Epoch 37/250\n",
      "400/400 [==============================] - 0s 656us/step - loss: 164098129920.0000\n",
      "Epoch 38/250\n",
      "400/400 [==============================] - 0s 769us/step - loss: 162862448640.0000\n",
      "Epoch 39/250\n",
      "400/400 [==============================] - 0s 815us/step - loss: 161638907904.0000\n",
      "Epoch 40/250\n",
      "400/400 [==============================] - 0s 804us/step - loss: 160413761536.0000\n",
      "Epoch 41/250\n",
      "400/400 [==============================] - 1s 2ms/step - loss: 159203377152.0000\n",
      "Epoch 42/250\n",
      "400/400 [==============================] - 0s 1ms/step - loss: 158000316416.0000\n",
      "Epoch 43/250\n",
      "400/400 [==============================] - 0s 769us/step - loss: 156801122304.0000\n",
      "Epoch 44/250\n",
      "400/400 [==============================] - 0s 752us/step - loss: 155616100352.0000\n",
      "Epoch 45/250\n",
      "400/400 [==============================] - 0s 698us/step - loss: 154468155392.0000\n",
      "Epoch 46/250\n",
      "400/400 [==============================] - 0s 716us/step - loss: 153315868672.0000\n",
      "Epoch 47/250\n",
      "400/400 [==============================] - 0s 673us/step - loss: 152208424960.0000\n",
      "Epoch 48/250\n",
      "400/400 [==============================] - 0s 770us/step - loss: 151123525632.0000\n",
      "Epoch 49/250\n",
      "400/400 [==============================] - 0s 784us/step - loss: 150042886144.0000\n",
      "Epoch 50/250\n",
      "400/400 [==============================] - 0s 796us/step - loss: 149034237952.0000\n",
      "Epoch 51/250\n",
      "400/400 [==============================] - 0s 697us/step - loss: 148040761344.0000\n",
      "Epoch 52/250\n",
      "400/400 [==============================] - 0s 736us/step - loss: 147094552576.0000\n",
      "Epoch 53/250\n",
      "400/400 [==============================] - 0s 680us/step - loss: 146214223872.0000\n",
      "Epoch 54/250\n",
      "400/400 [==============================] - 0s 750us/step - loss: 145369956352.0000\n",
      "Epoch 55/250\n",
      "400/400 [==============================] - 0s 700us/step - loss: 144539172864.0000\n",
      "Epoch 56/250\n",
      "400/400 [==============================] - 0s 767us/step - loss: 143747039232.0000\n",
      "Epoch 57/250\n",
      "400/400 [==============================] - 0s 778us/step - loss: 143036760064.0000\n",
      "Epoch 58/250\n",
      "400/400 [==============================] - 0s 912us/step - loss: 142349320192.0000\n",
      "Epoch 59/250\n",
      "400/400 [==============================] - 0s 743us/step - loss: 141713227776.0000\n",
      "Epoch 60/250\n",
      "400/400 [==============================] - 0s 834us/step - loss: 141123174400.0000\n",
      "Epoch 61/250\n",
      "400/400 [==============================] - 0s 772us/step - loss: 140564676608.0000\n",
      "Epoch 62/250\n",
      "400/400 [==============================] - 0s 777us/step - loss: 140050874368.0000\n",
      "Epoch 63/250\n",
      "400/400 [==============================] - 0s 695us/step - loss: 139558731776.0000\n",
      "Epoch 64/250\n",
      "400/400 [==============================] - 0s 690us/step - loss: 139118264320.0000\n",
      "Epoch 65/250\n",
      "400/400 [==============================] - 0s 841us/step - loss: 138679336960.0000\n",
      "Epoch 66/250\n",
      "400/400 [==============================] - 0s 748us/step - loss: 138316988416.0000\n",
      "Epoch 67/250\n",
      "400/400 [==============================] - 0s 763us/step - loss: 137950527488.0000\n",
      "Epoch 68/250\n",
      "400/400 [==============================] - 0s 772us/step - loss: 137624174592.0000\n",
      "Epoch 69/250\n",
      "400/400 [==============================] - 0s 719us/step - loss: 137293504512.0000\n",
      "Epoch 70/250\n",
      "400/400 [==============================] - 0s 739us/step - loss: 136978481152.0000\n",
      "Epoch 71/250\n",
      "400/400 [==============================] - 0s 777us/step - loss: 136725700608.0000\n",
      "Epoch 72/250\n",
      "400/400 [==============================] - 0s 756us/step - loss: 136459100160.0000\n",
      "Epoch 73/250\n",
      "400/400 [==============================] - 0s 899us/step - loss: 136249368576.0000\n",
      "Epoch 74/250\n",
      "400/400 [==============================] - 0s 721us/step - loss: 136014151680.0000\n",
      "Epoch 75/250\n",
      "400/400 [==============================] - 0s 783us/step - loss: 135833616384.0000\n",
      "Epoch 76/250\n",
      "400/400 [==============================] - 0s 826us/step - loss: 135638573056.0000\n",
      "Epoch 77/250\n",
      "400/400 [==============================] - 0s 748us/step - loss: 135484260352.0000\n",
      "Epoch 78/250\n",
      "400/400 [==============================] - 0s 842us/step - loss: 135310163968.0000\n",
      "Epoch 79/250\n",
      "400/400 [==============================] - 0s 821us/step - loss: 135161446400.0000\n",
      "Epoch 80/250\n",
      "400/400 [==============================] - 0s 805us/step - loss: 135043833856.0000\n",
      "Epoch 81/250\n",
      "400/400 [==============================] - 0s 788us/step - loss: 134920863744.0000\n",
      "Epoch 82/250\n",
      "400/400 [==============================] - 0s 851us/step - loss: 134826860544.0000\n",
      "Epoch 83/250\n",
      "400/400 [==============================] - 0s 822us/step - loss: 134731325440.0000\n",
      "Epoch 84/250\n",
      "400/400 [==============================] - 0s 847us/step - loss: 134633783296.0000\n",
      "Epoch 85/250\n",
      "400/400 [==============================] - 0s 726us/step - loss: 134545334272.0000\n",
      "Epoch 86/250\n",
      "400/400 [==============================] - 0s 775us/step - loss: 134472171520.0000\n",
      "Epoch 87/250\n",
      "400/400 [==============================] - 0s 978us/step - loss: 134386548736.0000\n",
      "Epoch 88/250\n",
      "400/400 [==============================] - 0s 756us/step - loss: 134328860672.0000\n",
      "Epoch 89/250\n",
      "400/400 [==============================] - 0s 727us/step - loss: 134286827520.0000\n",
      "Epoch 90/250\n",
      "400/400 [==============================] - 0s 822us/step - loss: 134217138176.0000\n",
      "Epoch 91/250\n",
      "400/400 [==============================] - 0s 764us/step - loss: 134154084352.0000\n",
      "Epoch 92/250\n",
      "400/400 [==============================] - 0s 776us/step - loss: 134154682368.0000\n",
      "Epoch 93/250\n",
      "400/400 [==============================] - 0s 790us/step - loss: 134073835520.0000\n",
      "Epoch 94/250\n",
      "400/400 [==============================] - 0s 751us/step - loss: 134037086208.0000\n",
      "Epoch 95/250\n",
      "400/400 [==============================] - 0s 760us/step - loss: 133991374848.0000\n",
      "Epoch 96/250\n",
      "400/400 [==============================] - 0s 809us/step - loss: 133941387264.0000\n",
      "Epoch 97/250\n",
      "400/400 [==============================] - 0s 811us/step - loss: 133915508736.0000\n",
      "Epoch 98/250\n",
      "400/400 [==============================] - 0s 779us/step - loss: 133874565120.0000\n",
      "Epoch 99/250\n",
      "400/400 [==============================] - 0s 732us/step - loss: 133855223808.0000\n",
      "Epoch 100/250\n",
      "400/400 [==============================] - 0s 974us/step - loss: 133803745280.0000\n",
      "Epoch 101/250\n",
      "400/400 [==============================] - 0s 886us/step - loss: 133769519104.0000\n",
      "Epoch 102/250\n",
      "400/400 [==============================] - 0s 745us/step - loss: 133748785152.0000\n",
      "Epoch 103/250\n",
      "400/400 [==============================] - 0s 827us/step - loss: 133711118336.0000\n",
      "Epoch 104/250\n",
      "400/400 [==============================] - 0s 719us/step - loss: 133679235072.0000\n",
      "Epoch 105/250\n",
      "400/400 [==============================] - 0s 800us/step - loss: 133673779200.0000\n",
      "Epoch 106/250\n",
      "400/400 [==============================] - 0s 814us/step - loss: 133656592384.0000\n",
      "Epoch 107/250\n",
      "400/400 [==============================] - 0s 714us/step - loss: 133619695616.0000\n",
      "Epoch 108/250\n",
      "400/400 [==============================] - 0s 804us/step - loss: 133590433792.0000\n",
      "Epoch 109/250\n",
      "400/400 [==============================] - 0s 725us/step - loss: 133568815104.0000\n",
      "Epoch 110/250\n",
      "400/400 [==============================] - 0s 724us/step - loss: 133539266560.0000\n",
      "Epoch 111/250\n",
      "400/400 [==============================] - 0s 800us/step - loss: 133522653184.0000\n",
      "Epoch 112/250\n",
      "400/400 [==============================] - 0s 768us/step - loss: 133504393216.0000\n",
      "Epoch 113/250\n",
      "400/400 [==============================] - 0s 904us/step - loss: 133510275072.0000\n",
      "Epoch 114/250\n",
      "400/400 [==============================] - 0s 793us/step - loss: 133483757568.0000\n",
      "Epoch 115/250\n",
      "400/400 [==============================] - 0s 797us/step - loss: 133454004224.0000\n",
      "Epoch 116/250\n",
      "400/400 [==============================] - 0s 846us/step - loss: 133468954624.0000\n",
      "Epoch 117/250\n",
      "400/400 [==============================] - 0s 812us/step - loss: 133431410688.0000\n",
      "Epoch 118/250\n",
      "400/400 [==============================] - 0s 784us/step - loss: 133425250304.0000\n",
      "Epoch 119/250\n",
      "400/400 [==============================] - 0s 747us/step - loss: 133387853824.0000\n",
      "Epoch 120/250\n",
      "400/400 [==============================] - 0s 804us/step - loss: 133363597312.0000\n",
      "Epoch 121/250\n",
      "400/400 [==============================] - 0s 755us/step - loss: 133369004032.0000\n",
      "Epoch 122/250\n",
      "400/400 [==============================] - 0s 799us/step - loss: 133343281152.0000\n",
      "Epoch 123/250\n",
      "400/400 [==============================] - 0s 739us/step - loss: 133303074816.0000\n",
      "Epoch 124/250\n",
      "400/400 [==============================] - 0s 818us/step - loss: 133310005248.0000\n",
      "Epoch 125/250\n",
      "400/400 [==============================] - 0s 738us/step - loss: 133312569344.0000\n",
      "Epoch 126/250\n",
      "400/400 [==============================] - 0s 920us/step - loss: 133275131904.0000\n",
      "Epoch 127/250\n",
      "400/400 [==============================] - 0s 727us/step - loss: 133264482304.0000\n",
      "Epoch 128/250\n",
      "400/400 [==============================] - 0s 698us/step - loss: 133245992960.0000\n",
      "Epoch 129/250\n",
      "400/400 [==============================] - 0s 776us/step - loss: 133226455040.0000\n",
      "Epoch 130/250\n",
      "400/400 [==============================] - 0s 841us/step - loss: 133216927744.0000\n",
      "Epoch 131/250\n",
      "400/400 [==============================] - 0s 721us/step - loss: 133201715200.0000\n",
      "Epoch 132/250\n",
      "400/400 [==============================] - 0s 684us/step - loss: 133166661632.0000\n",
      "Epoch 133/250\n",
      "400/400 [==============================] - 0s 774us/step - loss: 133139161088.0000\n",
      "Epoch 134/250\n",
      "400/400 [==============================] - 0s 772us/step - loss: 133150195712.0000\n",
      "Epoch 135/250\n",
      "400/400 [==============================] - 0s 720us/step - loss: 133145370624.0000\n",
      "Epoch 136/250\n",
      "400/400 [==============================] - 0s 771us/step - loss: 133118730240.0000\n",
      "Epoch 137/250\n",
      "400/400 [==============================] - 0s 756us/step - loss: 133113372672.0000\n",
      "Epoch 138/250\n",
      "400/400 [==============================] - 0s 797us/step - loss: 133088124928.0000\n",
      "Epoch 139/250\n",
      "400/400 [==============================] - 0s 734us/step - loss: 133074526208.0000\n",
      "Epoch 140/250\n",
      "400/400 [==============================] - 0s 1ms/step - loss: 133068505088.0000\n",
      "Epoch 141/250\n",
      "400/400 [==============================] - 0s 749us/step - loss: 133045706752.0000\n",
      "Epoch 142/250\n",
      "400/400 [==============================] - 0s 801us/step - loss: 133019049984.0000\n",
      "Epoch 143/250\n",
      "400/400 [==============================] - 0s 730us/step - loss: 133005131776.0000\n",
      "Epoch 144/250\n",
      "400/400 [==============================] - 0s 754us/step - loss: 133004763136.0000\n",
      "Epoch 145/250\n",
      "400/400 [==============================] - 0s 780us/step - loss: 132979359744.0000\n",
      "Epoch 146/250\n",
      "400/400 [==============================] - 0s 822us/step - loss: 132972535808.0000\n",
      "Epoch 147/250\n",
      "400/400 [==============================] - 0s 798us/step - loss: 132933492736.0000\n",
      "Epoch 148/250\n",
      "400/400 [==============================] - 0s 723us/step - loss: 132939063296.0000\n",
      "Epoch 149/250\n",
      "400/400 [==============================] - 0s 756us/step - loss: 132923539456.0000\n",
      "Epoch 150/250\n",
      "400/400 [==============================] - 0s 813us/step - loss: 132893769728.0000\n",
      "Epoch 151/250\n",
      "400/400 [==============================] - 0s 729us/step - loss: 132872790016.0000\n",
      "Epoch 152/250\n",
      "400/400 [==============================] - 0s 810us/step - loss: 132872478720.0000\n",
      "Epoch 153/250\n",
      "400/400 [==============================] - 0s 743us/step - loss: 132845461504.0000\n",
      "Epoch 154/250\n",
      "400/400 [==============================] - 0s 744us/step - loss: 132874682368.0000\n",
      "Epoch 155/250\n",
      "400/400 [==============================] - 0s 1ms/step - loss: 132831068160.0000\n",
      "Epoch 156/250\n",
      "400/400 [==============================] - 0s 807us/step - loss: 132852981760.0000\n",
      "Epoch 157/250\n",
      "400/400 [==============================] - 0s 780us/step - loss: 132828332032.0000\n",
      "Epoch 158/250\n",
      "400/400 [==============================] - 0s 784us/step - loss: 132794589184.0000\n",
      "Epoch 159/250\n",
      "400/400 [==============================] - 0s 775us/step - loss: 132779827200.0000\n",
      "Epoch 160/250\n",
      "400/400 [==============================] - 0s 804us/step - loss: 132769898496.0000\n",
      "Epoch 161/250\n",
      "400/400 [==============================] - 0s 772us/step - loss: 132751278080.0000\n",
      "Epoch 162/250\n",
      "400/400 [==============================] - 0s 777us/step - loss: 132723499008.0000\n",
      "Epoch 163/250\n",
      "400/400 [==============================] - 0s 773us/step - loss: 132723662848.0000\n",
      "Epoch 164/250\n",
      "400/400 [==============================] - 0s 781us/step - loss: 132691722240.0000\n",
      "Epoch 165/250\n",
      "400/400 [==============================] - 0s 759us/step - loss: 132675706880.0000\n",
      "Epoch 166/250\n",
      "400/400 [==============================] - 0s 677us/step - loss: 132659888128.0000\n",
      "Epoch 167/250\n",
      "400/400 [==============================] - 0s 727us/step - loss: 132656644096.0000\n",
      "Epoch 168/250\n",
      "400/400 [==============================] - 0s 711us/step - loss: 132654219264.0000\n",
      "Epoch 169/250\n",
      "400/400 [==============================] - 0s 908us/step - loss: 132623433728.0000\n",
      "Epoch 170/250\n",
      "400/400 [==============================] - 0s 796us/step - loss: 132614176768.0000\n",
      "Epoch 171/250\n",
      "400/400 [==============================] - 0s 834us/step - loss: 132599881728.0000\n",
      "Epoch 172/250\n",
      "400/400 [==============================] - 0s 773us/step - loss: 132574756864.0000\n",
      "Epoch 173/250\n",
      "400/400 [==============================] - 0s 794us/step - loss: 132569833472.0000\n",
      "Epoch 174/250\n",
      "400/400 [==============================] - 0s 865us/step - loss: 132561264640.0000\n",
      "Epoch 175/250\n",
      "400/400 [==============================] - 0s 809us/step - loss: 132558438400.0000\n",
      "Epoch 176/250\n",
      "400/400 [==============================] - 0s 767us/step - loss: 132518535168.0000\n",
      "Epoch 177/250\n",
      "400/400 [==============================] - 0s 918us/step - loss: 132507205632.0000\n",
      "Epoch 178/250\n",
      "400/400 [==============================] - 0s 836us/step - loss: 132499841024.0000\n",
      "Epoch 179/250\n",
      "400/400 [==============================] - 0s 800us/step - loss: 132467916800.0000\n",
      "Epoch 180/250\n",
      "400/400 [==============================] - 0s 810us/step - loss: 132462075904.0000\n",
      "Epoch 181/250\n",
      "400/400 [==============================] - 0s 959us/step - loss: 132437180416.0000\n",
      "Epoch 182/250\n",
      "400/400 [==============================] - 0s 749us/step - loss: 132434599936.0000\n",
      "Epoch 183/250\n",
      "400/400 [==============================] - 0s 696us/step - loss: 132428857344.0000\n",
      "Epoch 184/250\n",
      "400/400 [==============================] - 0s 725us/step - loss: 132404740096.0000\n",
      "Epoch 185/250\n",
      "400/400 [==============================] - 0s 795us/step - loss: 132385939456.0000\n",
      "Epoch 186/250\n",
      "400/400 [==============================] - 0s 715us/step - loss: 132375199744.0000\n",
      "Epoch 187/250\n",
      "400/400 [==============================] - 0s 828us/step - loss: 132371087360.0000\n",
      "Epoch 188/250\n",
      "400/400 [==============================] - 0s 789us/step - loss: 132340228096.0000\n",
      "Epoch 189/250\n",
      "400/400 [==============================] - 0s 739us/step - loss: 132338581504.0000\n",
      "Epoch 190/250\n",
      "400/400 [==============================] - 0s 723us/step - loss: 132331339776.0000\n",
      "Epoch 191/250\n",
      "400/400 [==============================] - 0s 783us/step - loss: 132308008960.0000\n",
      "Epoch 192/250\n",
      "400/400 [==============================] - 0s 826us/step - loss: 132283383808.0000\n",
      "Epoch 193/250\n",
      "400/400 [==============================] - 0s 943us/step - loss: 132273938432.0000\n",
      "Epoch 194/250\n",
      "400/400 [==============================] - 0s 723us/step - loss: 132259291136.0000\n",
      "Epoch 195/250\n",
      "400/400 [==============================] - 0s 760us/step - loss: 132254957568.0000\n",
      "Epoch 196/250\n",
      "400/400 [==============================] - 0s 799us/step - loss: 132247134208.0000\n",
      "Epoch 197/250\n",
      "400/400 [==============================] - 0s 745us/step - loss: 132229742592.0000\n",
      "Epoch 198/250\n",
      "400/400 [==============================] - 0s 655us/step - loss: 132222066688.0000\n",
      "Epoch 199/250\n",
      "400/400 [==============================] - 0s 848us/step - loss: 132181606400.0000\n",
      "Epoch 200/250\n",
      "400/400 [==============================] - 0s 725us/step - loss: 132198490112.0000\n",
      "Epoch 201/250\n",
      "400/400 [==============================] - 0s 715us/step - loss: 132193509376.0000\n",
      "Epoch 202/250\n",
      "400/400 [==============================] - 0s 814us/step - loss: 132168589312.0000\n",
      "Epoch 203/250\n",
      "400/400 [==============================] - 1s 2ms/step - loss: 132151320576.0000\n",
      "Epoch 204/250\n",
      "400/400 [==============================] - 1s 1ms/step - loss: 132143636480.0000\n",
      "Epoch 205/250\n",
      "400/400 [==============================] - 0s 849us/step - loss: 132130209792.0000\n",
      "Epoch 206/250\n",
      "400/400 [==============================] - 0s 709us/step - loss: 132108279808.0000\n",
      "Epoch 207/250\n",
      "400/400 [==============================] - 0s 883us/step - loss: 132086661120.0000\n",
      "Epoch 208/250\n",
      "400/400 [==============================] - 0s 692us/step - loss: 132059439104.0000\n",
      "Epoch 209/250\n",
      "400/400 [==============================] - 0s 764us/step - loss: 132066656256.0000\n",
      "Epoch 210/250\n",
      "400/400 [==============================] - 0s 847us/step - loss: 132048478208.0000\n",
      "Epoch 211/250\n",
      "400/400 [==============================] - 0s 790us/step - loss: 132041465856.0000\n",
      "Epoch 212/250\n",
      "400/400 [==============================] - 0s 916us/step - loss: 132021690368.0000\n",
      "Epoch 213/250\n",
      "400/400 [==============================] - 0s 782us/step - loss: 132012965888.0000\n",
      "Epoch 214/250\n",
      "400/400 [==============================] - 0s 833us/step - loss: 132009050112.0000\n",
      "Epoch 215/250\n",
      "400/400 [==============================] - 0s 839us/step - loss: 131983073280.0000\n",
      "Epoch 216/250\n",
      "400/400 [==============================] - 0s 857us/step - loss: 131977175040.0000\n",
      "Epoch 217/250\n",
      "400/400 [==============================] - 0s 1ms/step - loss: 131942416384.0000\n",
      "Epoch 218/250\n",
      "400/400 [==============================] - 0s 888us/step - loss: 131976806400.0000\n",
      "Epoch 219/250\n",
      "400/400 [==============================] - 0s 953us/step - loss: 131921174528.0000\n",
      "Epoch 220/250\n",
      "400/400 [==============================] - 0s 789us/step - loss: 131910025216.0000\n",
      "Epoch 221/250\n",
      "400/400 [==============================] - 0s 850us/step - loss: 131909812224.0000\n",
      "Epoch 222/250\n",
      "400/400 [==============================] - 0s 1ms/step - loss: 131890102272.0000\n",
      "Epoch 223/250\n",
      "400/400 [==============================] - 0s 914us/step - loss: 131887587328.0000\n",
      "Epoch 224/250\n",
      "400/400 [==============================] - 0s 834us/step - loss: 131873587200.0000\n",
      "Epoch 225/250\n",
      "400/400 [==============================] - 0s 868us/step - loss: 131865116672.0000\n",
      "Epoch 226/250\n",
      "400/400 [==============================] - 0s 812us/step - loss: 131831930880.0000\n",
      "Epoch 227/250\n",
      "400/400 [==============================] - 0s 869us/step - loss: 131810525184.0000\n",
      "Epoch 228/250\n",
      "400/400 [==============================] - 0s 768us/step - loss: 131817963520.0000\n",
      "Epoch 229/250\n",
      "400/400 [==============================] - 0s 858us/step - loss: 131817783296.0000\n",
      "Epoch 230/250\n",
      "400/400 [==============================] - 0s 854us/step - loss: 131786924032.0000\n",
      "Epoch 231/250\n",
      "400/400 [==============================] - 0s 889us/step - loss: 131781271552.0000\n",
      "Epoch 232/250\n",
      "400/400 [==============================] - 0s 1ms/step - loss: 131766386688.0000\n",
      "Epoch 233/250\n",
      "400/400 [==============================] - 0s 907us/step - loss: 131755827200.0000\n",
      "Epoch 234/250\n",
      "400/400 [==============================] - 0s 896us/step - loss: 131745349632.0000\n",
      "Epoch 235/250\n",
      "400/400 [==============================] - 0s 794us/step - loss: 131730251776.0000\n",
      "Epoch 236/250\n",
      "400/400 [==============================] - 0s 914us/step - loss: 131711844352.0000\n",
      "Epoch 237/250\n",
      "400/400 [==============================] - 0s 825us/step - loss: 131695992832.0000\n",
      "Epoch 238/250\n",
      "400/400 [==============================] - 0s 810us/step - loss: 131680608256.0000\n",
      "Epoch 239/250\n",
      "400/400 [==============================] - 0s 823us/step - loss: 131650912256.0000\n",
      "Epoch 240/250\n",
      "400/400 [==============================] - 0s 916us/step - loss: 131639607296.0000\n",
      "Epoch 241/250\n",
      "400/400 [==============================] - 0s 1ms/step - loss: 131642654720.0000\n",
      "Epoch 242/250\n",
      "400/400 [==============================] - 0s 871us/step - loss: 131638484992.0000\n",
      "Epoch 243/250\n",
      "400/400 [==============================] - 0s 886us/step - loss: 131587588096.0000\n",
      "Epoch 244/250\n",
      "400/400 [==============================] - 0s 832us/step - loss: 131608707072.0000\n",
      "Epoch 245/250\n",
      "400/400 [==============================] - 0s 770us/step - loss: 131597352960.0000\n",
      "Epoch 246/250\n",
      "400/400 [==============================] - 0s 872us/step - loss: 131590332416.0000\n",
      "Epoch 247/250\n",
      "400/400 [==============================] - 0s 832us/step - loss: 131576504320.0000\n",
      "Epoch 248/250\n",
      "400/400 [==============================] - 0s 859us/step - loss: 131574620160.0000\n",
      "Epoch 249/250\n",
      "400/400 [==============================] - 0s 794us/step - loss: 131550396416.0000\n",
      "Epoch 250/250\n",
      "400/400 [==============================] - 0s 860us/step - loss: 131513622528.0000\n"
     ]
    },
    {
     "data": {
      "text/plain": [
       "<keras.src.callbacks.History at 0x7fba92d7bc40>"
      ]
     },
     "execution_count": 103,
     "metadata": {},
     "output_type": "execute_result"
    }
   ],
   "source": [
    "model.fit(X_train,y_train,epochs=250)"
   ]
  },
  {
   "cell_type": "markdown",
   "metadata": {},
   "source": [
    "#### 2.2 Évaluation"
   ]
  },
  {
   "cell_type": "code",
   "execution_count": 104,
   "metadata": {},
   "outputs": [
    {
     "data": {
      "text/plain": [
       "{'loss': [319256068096.0,\n",
       "  319242600448.0,\n",
       "  319192629248.0,\n",
       "  319066243072.0,\n",
       "  318811045888.0,\n",
       "  318361174016.0,\n",
       "  317637885952.0,\n",
       "  316554379264.0,\n",
       "  315006943232.0,\n",
       "  312836882432.0,\n",
       "  310035611648.0,\n",
       "  306388107264.0,\n",
       "  301831159808.0,\n",
       "  296188575744.0,\n",
       "  289460486144.0,\n",
       "  281674448896.0,\n",
       "  272739401728.0,\n",
       "  262712737792.0,\n",
       "  251585445888.0,\n",
       "  240054763520.0,\n",
       "  228008067072.0,\n",
       "  216250138624.0,\n",
       "  205328154624.0,\n",
       "  195629072384.0,\n",
       "  187985018880.0,\n",
       "  182441771008.0,\n",
       "  178799853568.0,\n",
       "  176406740992.0,\n",
       "  174620360704.0,\n",
       "  173141426176.0,\n",
       "  171798298624.0,\n",
       "  170471227392.0,\n",
       "  169199009792.0,\n",
       "  167913717760.0,\n",
       "  166643335168.0,\n",
       "  165384585216.0,\n",
       "  164098129920.0,\n",
       "  162862448640.0,\n",
       "  161638907904.0,\n",
       "  160413761536.0,\n",
       "  159203377152.0,\n",
       "  158000316416.0,\n",
       "  156801122304.0,\n",
       "  155616100352.0,\n",
       "  154468155392.0,\n",
       "  153315868672.0,\n",
       "  152208424960.0,\n",
       "  151123525632.0,\n",
       "  150042886144.0,\n",
       "  149034237952.0,\n",
       "  148040761344.0,\n",
       "  147094552576.0,\n",
       "  146214223872.0,\n",
       "  145369956352.0,\n",
       "  144539172864.0,\n",
       "  143747039232.0,\n",
       "  143036760064.0,\n",
       "  142349320192.0,\n",
       "  141713227776.0,\n",
       "  141123174400.0,\n",
       "  140564676608.0,\n",
       "  140050874368.0,\n",
       "  139558731776.0,\n",
       "  139118264320.0,\n",
       "  138679336960.0,\n",
       "  138316988416.0,\n",
       "  137950527488.0,\n",
       "  137624174592.0,\n",
       "  137293504512.0,\n",
       "  136978481152.0,\n",
       "  136725700608.0,\n",
       "  136459100160.0,\n",
       "  136249368576.0,\n",
       "  136014151680.0,\n",
       "  135833616384.0,\n",
       "  135638573056.0,\n",
       "  135484260352.0,\n",
       "  135310163968.0,\n",
       "  135161446400.0,\n",
       "  135043833856.0,\n",
       "  134920863744.0,\n",
       "  134826860544.0,\n",
       "  134731325440.0,\n",
       "  134633783296.0,\n",
       "  134545334272.0,\n",
       "  134472171520.0,\n",
       "  134386548736.0,\n",
       "  134328860672.0,\n",
       "  134286827520.0,\n",
       "  134217138176.0,\n",
       "  134154084352.0,\n",
       "  134154682368.0,\n",
       "  134073835520.0,\n",
       "  134037086208.0,\n",
       "  133991374848.0,\n",
       "  133941387264.0,\n",
       "  133915508736.0,\n",
       "  133874565120.0,\n",
       "  133855223808.0,\n",
       "  133803745280.0,\n",
       "  133769519104.0,\n",
       "  133748785152.0,\n",
       "  133711118336.0,\n",
       "  133679235072.0,\n",
       "  133673779200.0,\n",
       "  133656592384.0,\n",
       "  133619695616.0,\n",
       "  133590433792.0,\n",
       "  133568815104.0,\n",
       "  133539266560.0,\n",
       "  133522653184.0,\n",
       "  133504393216.0,\n",
       "  133510275072.0,\n",
       "  133483757568.0,\n",
       "  133454004224.0,\n",
       "  133468954624.0,\n",
       "  133431410688.0,\n",
       "  133425250304.0,\n",
       "  133387853824.0,\n",
       "  133363597312.0,\n",
       "  133369004032.0,\n",
       "  133343281152.0,\n",
       "  133303074816.0,\n",
       "  133310005248.0,\n",
       "  133312569344.0,\n",
       "  133275131904.0,\n",
       "  133264482304.0,\n",
       "  133245992960.0,\n",
       "  133226455040.0,\n",
       "  133216927744.0,\n",
       "  133201715200.0,\n",
       "  133166661632.0,\n",
       "  133139161088.0,\n",
       "  133150195712.0,\n",
       "  133145370624.0,\n",
       "  133118730240.0,\n",
       "  133113372672.0,\n",
       "  133088124928.0,\n",
       "  133074526208.0,\n",
       "  133068505088.0,\n",
       "  133045706752.0,\n",
       "  133019049984.0,\n",
       "  133005131776.0,\n",
       "  133004763136.0,\n",
       "  132979359744.0,\n",
       "  132972535808.0,\n",
       "  132933492736.0,\n",
       "  132939063296.0,\n",
       "  132923539456.0,\n",
       "  132893769728.0,\n",
       "  132872790016.0,\n",
       "  132872478720.0,\n",
       "  132845461504.0,\n",
       "  132874682368.0,\n",
       "  132831068160.0,\n",
       "  132852981760.0,\n",
       "  132828332032.0,\n",
       "  132794589184.0,\n",
       "  132779827200.0,\n",
       "  132769898496.0,\n",
       "  132751278080.0,\n",
       "  132723499008.0,\n",
       "  132723662848.0,\n",
       "  132691722240.0,\n",
       "  132675706880.0,\n",
       "  132659888128.0,\n",
       "  132656644096.0,\n",
       "  132654219264.0,\n",
       "  132623433728.0,\n",
       "  132614176768.0,\n",
       "  132599881728.0,\n",
       "  132574756864.0,\n",
       "  132569833472.0,\n",
       "  132561264640.0,\n",
       "  132558438400.0,\n",
       "  132518535168.0,\n",
       "  132507205632.0,\n",
       "  132499841024.0,\n",
       "  132467916800.0,\n",
       "  132462075904.0,\n",
       "  132437180416.0,\n",
       "  132434599936.0,\n",
       "  132428857344.0,\n",
       "  132404740096.0,\n",
       "  132385939456.0,\n",
       "  132375199744.0,\n",
       "  132371087360.0,\n",
       "  132340228096.0,\n",
       "  132338581504.0,\n",
       "  132331339776.0,\n",
       "  132308008960.0,\n",
       "  132283383808.0,\n",
       "  132273938432.0,\n",
       "  132259291136.0,\n",
       "  132254957568.0,\n",
       "  132247134208.0,\n",
       "  132229742592.0,\n",
       "  132222066688.0,\n",
       "  132181606400.0,\n",
       "  132198490112.0,\n",
       "  132193509376.0,\n",
       "  132168589312.0,\n",
       "  132151320576.0,\n",
       "  132143636480.0,\n",
       "  132130209792.0,\n",
       "  132108279808.0,\n",
       "  132086661120.0,\n",
       "  132059439104.0,\n",
       "  132066656256.0,\n",
       "  132048478208.0,\n",
       "  132041465856.0,\n",
       "  132021690368.0,\n",
       "  132012965888.0,\n",
       "  132009050112.0,\n",
       "  131983073280.0,\n",
       "  131977175040.0,\n",
       "  131942416384.0,\n",
       "  131976806400.0,\n",
       "  131921174528.0,\n",
       "  131910025216.0,\n",
       "  131909812224.0,\n",
       "  131890102272.0,\n",
       "  131887587328.0,\n",
       "  131873587200.0,\n",
       "  131865116672.0,\n",
       "  131831930880.0,\n",
       "  131810525184.0,\n",
       "  131817963520.0,\n",
       "  131817783296.0,\n",
       "  131786924032.0,\n",
       "  131781271552.0,\n",
       "  131766386688.0,\n",
       "  131755827200.0,\n",
       "  131745349632.0,\n",
       "  131730251776.0,\n",
       "  131711844352.0,\n",
       "  131695992832.0,\n",
       "  131680608256.0,\n",
       "  131650912256.0,\n",
       "  131639607296.0,\n",
       "  131642654720.0,\n",
       "  131638484992.0,\n",
       "  131587588096.0,\n",
       "  131608707072.0,\n",
       "  131597352960.0,\n",
       "  131590332416.0,\n",
       "  131576504320.0,\n",
       "  131574620160.0,\n",
       "  131550396416.0,\n",
       "  131513622528.0]}"
      ]
     },
     "execution_count": 104,
     "metadata": {},
     "output_type": "execute_result"
    }
   ],
   "source": [
    "model.history.history"
   ]
  },
  {
   "cell_type": "code",
   "execution_count": 105,
   "metadata": {},
   "outputs": [],
   "source": [
    "loss = model.history.history['loss']"
   ]
  },
  {
   "cell_type": "code",
   "execution_count": 106,
   "metadata": {},
   "outputs": [
    {
     "data": {
      "image/png": "[encoded data removed]",
      "text/plain": [
       "<Figure size 640x480 with 1 Axes>"
      ]
     },
     "metadata": {},
     "output_type": "display_data"
    }
   ],
   "source": [
    "sns.lineplot(x=range(len(loss)),y=loss)\n",
    "plt.title(\"Perte sur le set d'entraînement par Epoch\");"
   ]
  },
  {
   "cell_type": "markdown",
   "metadata": {},
   "source": [
    "#### Comparation de l'évaluation finale (MSE) sur le set d'entraînement et le set de test"
   ]
  },
  {
   "cell_type": "code",
   "execution_count": 107,
   "metadata": {},
   "outputs": [
    {
     "data": {
      "text/plain": [
       "['loss']"
      ]
     },
     "execution_count": 107,
     "metadata": {},
     "output_type": "execute_result"
    }
   ],
   "source": [
    "model.metrics_names"
   ]
  },
  {
   "cell_type": "code",
   "execution_count": 108,
   "metadata": {},
   "outputs": [
    {
     "name": "stdout",
     "output_type": "stream",
     "text": [
      "131507404800.0\n",
      "144250863616.0\n"
     ]
    }
   ],
   "source": [
    "training_score = model.evaluate(X_train, y_train, verbose=0)\n",
    "test_score = model.evaluate(X_test, y_test, verbose=0)\n",
    "print(training_score)\n",
    "print(test_score)"
   ]
  },
  {
   "cell_type": "markdown",
   "metadata": {},
   "source": [
    "#### Évaluations complémentaires"
   ]
  },
  {
   "cell_type": "code",
   "execution_count": 109,
   "metadata": {},
   "outputs": [
    {
     "name": "stdout",
     "output_type": "stream",
     "text": [
      "100/100 [==============================] - 0s 805us/step\n"
     ]
    },
    {
     "data": {
      "text/plain": [
       "array([[193229.38],\n",
       "       [137515.86],\n",
       "       [137515.86],\n",
       "       ...,\n",
       "       [188417.28],\n",
       "       [874187.75],\n",
       "       [327341.94]], dtype=float32)"
      ]
     },
     "execution_count": 109,
     "metadata": {},
     "output_type": "execute_result"
    }
   ],
   "source": [
    "test_predictions = model.predict(X_test)\n",
    "test_predictions#[1:10]"
   ]
  },
  {
   "cell_type": "code",
   "execution_count": 110,
   "metadata": {},
   "outputs": [
    {
     "data": {
      "text/html": [
       "<div>\n",
       "<style scoped>\n",
       "    .dataframe tbody tr th:only-of-type {\n",
       "        vertical-align: middle;\n",
       "    }\n",
       "\n",
       "    .dataframe tbody tr th {\n",
       "        vertical-align: top;\n",
       "    }\n",
       "\n",
       "    .dataframe thead th {\n",
       "        text-align: right;\n",
       "    }\n",
       "</style>\n",
       "<table border=\"1\" class=\"dataframe\">\n",
       "  <thead>\n",
       "    <tr style=\"text-align: right;\">\n",
       "      <th></th>\n",
       "      <th>Test Y</th>\n",
       "    </tr>\n",
       "  </thead>\n",
       "  <tbody>\n",
       "    <tr>\n",
       "      <th>0</th>\n",
       "      <td>130000.0</td>\n",
       "    </tr>\n",
       "    <tr>\n",
       "      <th>1</th>\n",
       "      <td>109000.0</td>\n",
       "    </tr>\n",
       "    <tr>\n",
       "      <th>2</th>\n",
       "      <td>145000.0</td>\n",
       "    </tr>\n",
       "    <tr>\n",
       "      <th>3</th>\n",
       "      <td>67000.0</td>\n",
       "    </tr>\n",
       "    <tr>\n",
       "      <th>4</th>\n",
       "      <td>210000.0</td>\n",
       "    </tr>\n",
       "    <tr>\n",
       "      <th>...</th>\n",
       "      <td>...</td>\n",
       "    </tr>\n",
       "    <tr>\n",
       "      <th>3194</th>\n",
       "      <td>52000.0</td>\n",
       "    </tr>\n",
       "    <tr>\n",
       "      <th>3195</th>\n",
       "      <td>279000.0</td>\n",
       "    </tr>\n",
       "    <tr>\n",
       "      <th>3196</th>\n",
       "      <td>138000.0</td>\n",
       "    </tr>\n",
       "    <tr>\n",
       "      <th>3197</th>\n",
       "      <td>1350000.0</td>\n",
       "    </tr>\n",
       "    <tr>\n",
       "      <th>3198</th>\n",
       "      <td>420000.0</td>\n",
       "    </tr>\n",
       "  </tbody>\n",
       "</table>\n",
       "<p>3199 rows × 1 columns</p>\n",
       "</div>"
      ],
      "text/plain": [
       "         Test Y\n",
       "0      130000.0\n",
       "1      109000.0\n",
       "2      145000.0\n",
       "3       67000.0\n",
       "4      210000.0\n",
       "...         ...\n",
       "3194    52000.0\n",
       "3195   279000.0\n",
       "3196   138000.0\n",
       "3197  1350000.0\n",
       "3198   420000.0\n",
       "\n",
       "[3199 rows x 1 columns]"
      ]
     },
     "execution_count": 110,
     "metadata": {},
     "output_type": "execute_result"
    }
   ],
   "source": [
    "pred_data = pd.DataFrame(y_test, columns=['Test Y'])\n",
    "pred_data"
   ]
  }
 ],
 "metadata": {
  "kernelspec": {
   "display_name": "Python 3",
   "language": "python",
   "name": "python3"
  },
  "language_info": {
   "codemirror_mode": {
    "name": "ipython",
    "version": 3
   },
   "file_extension": ".py",
   "mimetype": "text/x-python",
   "name": "python",
   "nbconvert_exporter": "python",
   "pygments_lexer": "ipython3",
   "version": "3.10.12"
  }
 },
 "nbformat": 4,
 "nbformat_minor": 2
}
